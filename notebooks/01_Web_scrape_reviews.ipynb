{
 "cells": [
  {
   "attachments": {},
   "cell_type": "markdown",
   "metadata": {},
   "source": [
    "## **01 Web Scrape Reviews**\n",
    "This script takes a list of breweries and scrapes the corresponding Tripadvisor review data. The brewery list is sourced from Open Brewery DB.\n",
    "\n",
    "### **Notebook Objectives**\n",
    "1. Import a CSV into pandas and extract a list of breweries to scrape\n",
    "2. For each brewery in the list, use the requests package to query DuckDuckGo and find the corresponding Tripadvisor page (if exists)\n",
    "3. Scrape and save the html page using dill in case the scraped content is needed at a later date\n",
    "4. Save the scraped review data into txt files for later processing in the next notebook\n",
    "5. Demonstrate storing the scraped data in a SQL database as an alternative to txt files"
   ]
  },
  {
   "cell_type": "code",
   "execution_count": 1,
   "metadata": {},
   "outputs": [],
   "source": [
    "import os\n",
    "from pathlib import Path\n",
    "from dotenv import dotenv_values\n",
    "import requests\n",
    "from bs4 import BeautifulSoup\n",
    "import time\n",
    "import random\n",
    "import dill\n",
    "import pandas as pd\n",
    "import re\n",
    "import logging\n",
    "from sqlalchemy import create_engine\n",
    "\n",
    "logging.basicConfig(filename='scrape.log', filemode='w', \n",
    "        level=logging.DEBUG, force=True,\n",
    "        format='%(asctime)s %(levelname)s:%(message)s')\n",
    "\n",
    "config = dotenv_values(dotenv_path=Path('../.env'))"
   ]
  },
  {
   "cell_type": "code",
   "execution_count": 55,
   "metadata": {},
   "outputs": [],
   "source": [
    "# s = requests.Session()\n",
    "\n",
    "def get_soup(url):\n",
    "    headers = {'User-Agent': config['USER_AGENT']}\n",
    "    response = requests.get(url, headers=headers)\n",
    "    # response = s.get(url, headers=headers)\n",
    "    soup = BeautifulSoup(response.text, 'html.parser')\n",
    "    return soup, response\n",
    "\n",
    "def get_brew_id(id, url, review_type):\n",
    "    # check tripadviser page type\n",
    "    if review_type == 'Attraction':\n",
    "        brew_id = re.sub('https://www.tripadvisor.+/Attraction_Review', '-Attraction', url)\n",
    "    elif review_type == 'Restaurant':\n",
    "        brew_id = re.sub('https://www.tripadvisor.+/Restaurant_Review', '-Restaurant', url)\n",
    "    else:\n",
    "        raise TypeError('Unsupported review type')\n",
    "    brew_id = id + brew_id.strip('.html')\n",
    "    return brew_id\n",
    "\n",
    "def save_page(response, page, id):\n",
    "    name = '../assets/html/' + id + page + '.dill'\n",
    "    with open(name, 'wb') as f:\n",
    "        dill.dump(response, f)\n",
    "    return\n",
    "\n",
    "def save_text(text, brew_id):\n",
    "    name = '../assets/text/' + brew_id + '.txt'\n",
    "    with open(name, 'a+') as f:\n",
    "        logging.info(f'Writing to {name}')\n",
    "        f.write(text)\n",
    "    return\n",
    "\n",
    "def parse_soup(soup, brew_id, type='Attraction'):\n",
    "    # HTML container depends on tripadviser classification\n",
    "    if type == 'Attraction':\n",
    "        reviews = soup.find_all('div', {'data-automation': 'reviewCard'})\n",
    "        if len(reviews) == 0:\n",
    "            logging.info('No more reviews to parse.')\n",
    "            return False\n",
    "        # Iterate through the reviews and extract the date, rating, and text\n",
    "        # TODO: store review data in a dictionary and json for easier parsing later\n",
    "        for review in reviews:\n",
    "            # check if tags present\n",
    "            if review.find('div', class_='RpeCd') is not None:\n",
    "                review_data = []\n",
    "                review_data.append(review.find('div', class_='RpeCd').text)\n",
    "                review_data.append(review.find('svg', class_='UctUV d H0').get('aria-label'))\n",
    "                review_data.append(review.find('div', class_='biGQs _P fiohW qWPrE ncFvv fOtGX').text)\n",
    "                # get review text and strip any newlines\n",
    "                text_extract = review.find('div', class_='biGQs _P pZUbB KxBGd').text\n",
    "                text_extract = text_extract.replace('\\n', '')\n",
    "                review_data.append(text_extract + '\\n')\n",
    "                text = '\\n'.join(review_data)\n",
    "                save_text(text, brew_id)\n",
    "        return True\n",
    "\n",
    "    elif type =='Restaurant':\n",
    "        reviews = soup.find_all('div', class_='review-container')\n",
    "        if len(reviews) == 0:\n",
    "            logging.info('No more reviews to parse.')\n",
    "            return False\n",
    "        # Iterate through the reviews and extract the date, rating, and text\n",
    "        for review in reviews:\n",
    "            # check if tags present\n",
    "            if review.find('span', class_='ratingDate') is not None:\n",
    "                review_data = []\n",
    "                review_data.append(review.find('span', class_='ratingDate').get('title'))\n",
    "                review_data.append(review.find('span', class_=\"ui_bubble_rating\").get('class')[1])\n",
    "                review_data.append(review.find('span', class_='noQuotes').text)\n",
    "                # get review text and strip any newlines\n",
    "                text_extract = review.find('p', class_='partial_entry').text\n",
    "                text_extract = text_extract.replace('\\n', '')\n",
    "                review_data.append(text_extract + '\\n')\n",
    "                text = '\\n'.join(review_data)\n",
    "                save_text(text, brew_id)\n",
    "            else:\n",
    "                logging.info('Review instance is empty')\n",
    "                return False\n",
    "        return True\n",
    "    else:\n",
    "        raise TypeError('Unsupported review type')\n",
    "\n",
    "def increment_url(url, page):\n",
    "    url = url.replace('-Reviews', '-Reviews' + page)\n",
    "    return url\n",
    "\n",
    "def get_review_type(url):\n",
    "    if 'Attraction_Review' in url:\n",
    "        # scrape up to 30 reviews\n",
    "        pages = ['', '-or10', '-or20']\n",
    "        return 'Attraction', pages\n",
    "    elif 'Restaurant_Review' in url:\n",
    "        # scrape up to 45 reviews since the lengths are truncated in Restaurant case\n",
    "        pages = ['', '-or15', '-or30']\n",
    "        return 'Restaurant', pages\n",
    "    else:\n",
    "        logging.warning('URL does not contain proper format')\n",
    "        return None, None\n",
    "\n",
    "def scrape(id, url_base):\n",
    "    \"\"\"\n",
    "    Inputs: base url (str), brewery name (str)\n",
    "    \"\"\"\n",
    "    # determine if tripadvisor url classifies it as attraction or restaurant\n",
    "    review_type, pages = get_review_type(url_base)\n",
    "    # skip if url does not follow format\n",
    "    if review_type is not None:\n",
    "        # get unique brewery identifier\n",
    "        brew_id = get_brew_id(id, url_base, review_type)\n",
    "        # loop through a couple pages of reviews\n",
    "        for page in pages:\n",
    "            url = increment_url(url_base, page)\n",
    "            logging.info(f'Scraping: {url}')\n",
    "            soup, response = get_soup(url)\n",
    "            save_page(response, page, brew_id)\n",
    "            reviews = parse_soup(soup, brew_id, review_type)\n",
    "            # conservative delay time between requests\n",
    "            time.sleep(random.randint(4, 6))\n",
    "            if not reviews:\n",
    "                return\n",
    "    return\n",
    "\n",
    "def get_url_base(name, state, city, verbose=False):\n",
    "    \"\"\"\n",
    "    Inputs: brewery name, state\n",
    "    \"\"\"\n",
    "    base = 'https://duckduckgo.com/html/?q='\n",
    "    name = name.replace(' ', '+')\n",
    "    state = state.replace(' ', '+')\n",
    "    city = city.replace(' ', '+')\n",
    "    url = f'{base}+tripadvisor+{name}+{state}+{city}'\n",
    "    if verbose:\n",
    "        logging.debug(url)\n",
    "    soup, response = get_soup(url)\n",
    "    links = soup.find_all(\"a\", class_=\"result__url\", href=True)\n",
    "    return links[0]['href']"
   ]
  },
  {
   "cell_type": "code",
   "execution_count": 49,
   "metadata": {},
   "outputs": [
    {
     "name": "stdout",
     "output_type": "stream",
     "text": [
      "Brewery df shape: (163, 8)\n",
      "Barrington Brewery and Restaurant https://www.tripadvisor.com/Restaurant_Review-g41586-d512967-Reviews-Barrington_Brewery_Restaurant-Great_Barrington_Massachusetts.html\n"
     ]
    }
   ],
   "source": [
    "# Test HTML requests is working\n",
    "df = pd.read_csv(Path('../assets/breweries_clean_address.csv'))\n",
    "states = 'Massachusetts'\n",
    "df_states = df.query('state in @states')\n",
    "breweries_subset = df_states[['obdb_id', 'name', 'state', 'city', 'street', 'longitude', 'latitude', 'website_url']]\n",
    "print(f'Brewery df shape: {breweries_subset.shape}')\n",
    "\n",
    "# Test search for Tripadvisor link\n",
    "test_brew = breweries_subset.iloc[17]\n",
    "link = get_url_base(test_brew['name'], test_brew['state'], \n",
    "    test_brew['city'], verbose=True)\n",
    "print(test_brew['name'], link)\n",
    "\n",
    "# Test scrape\n",
    "time.sleep(1)\n",
    "soup, response = get_soup(link)\n",
    "logging.debug(soup.text)"
   ]
  },
  {
   "cell_type": "code",
   "execution_count": 27,
   "metadata": {},
   "outputs": [],
   "source": [
    "def get_subset(state):\n",
    "    '''Get list of breweries for a single state'''\n",
    "    df = pd.read_csv(Path('../assets/breweries_clean_address.csv'))\n",
    "    df_subset = df.query('state in @state').reset_index()\n",
    "    columns = ['obdb_id', 'name', 'state', 'city', 'street', 'longitude', 'latitude', 'website_url']\n",
    "    df_subset = df_subset[columns]\n",
    "    return df_subset\n",
    "\n",
    "def scrape_breweries(state, start_index=0):\n",
    "    '''Scrape brewery reviews for datatframe input'''\n",
    "    df_subset = get_subset(state)\n",
    "    count = df_subset.shape[0]-1\n",
    "    # Scrape reviews\n",
    "    for index, brewery in df_subset[start_index:].iterrows():\n",
    "        id = brewery['obdb_id']\n",
    "        name = brewery['name']\n",
    "        city = brewery['city']\n",
    "        name_token = re.findall(r'^[A-Za-z\\d]+', name)[0]\n",
    "        state = brewery['state']\n",
    "        url_base = get_url_base(name, state, city)\n",
    "        logging.info(f'Brewery {index} out of {count}')\n",
    "        logging.info(url_base)\n",
    "        if 'tripadvisor.' in url_base and name_token in url_base:\n",
    "            scrape(id, url_base)\n",
    "        elif 'tripadvisor.' in url_base:\n",
    "            name_token = name_token.strip('s')\n",
    "            if 'tripadvisor.' in url_base and name_token in url_base:\n",
    "                scrape(id, url_base)\n",
    "        else:\n",
    "            logging.info(f'No trip advisor result for {name}')\n",
    "    return df_subset"
   ]
  },
  {
   "cell_type": "code",
   "execution_count": 59,
   "metadata": {},
   "outputs": [
    {
     "name": "stdout",
     "output_type": "stream",
     "text": [
      "(59, 8)\n"
     ]
    }
   ],
   "source": [
    "# Get size of brewery subset\n",
    "state = 'Vermont'\n",
    "df_subset = get_subset(state)\n",
    "print(df_subset.shape)"
   ]
  },
  {
   "cell_type": "code",
   "execution_count": 56,
   "metadata": {},
   "outputs": [
    {
     "data": {
      "text/plain": [
       "(418, 8)"
      ]
     },
     "execution_count": 56,
     "metadata": {},
     "output_type": "execute_result"
    }
   ],
   "source": [
    "# Scrape selected state\n",
    "df_scrape = scrape_breweries(state)\n",
    "df_scrape.shape"
   ]
  },
  {
   "cell_type": "code",
   "execution_count": null,
   "metadata": {},
   "outputs": [],
   "source": []
  },
  {
   "cell_type": "code",
   "execution_count": null,
   "metadata": {},
   "outputs": [],
   "source": [
    "# TODO SANDBOX\n",
    "# If scraping approach needs to be updated, re-scrape from the saved html pages\n",
    "# Extract review data from all txt files in directory\n",
    "dir_path = '../assets/html/'\n",
    "paths = Path(dir_path).glob('**/*.dill')\n",
    "for path in paths:\n",
    "    with open(path, 'rb') as f:\n",
    "        page = dill.load(f)"
   ]
  },
  {
   "cell_type": "code",
   "execution_count": 39,
   "metadata": {},
   "outputs": [
    {
     "name": "stdout",
     "output_type": "stream",
     "text": [
      "Opening: ../assets/html/amorys-tomb-brewing-co-maynard-Attraction-g41669-d16656179-Reviews-Amory_s_Tomb_Brewing-Maynard_Massachusetts-or10.dill\n",
      "Brewery name: amorys\n",
      "Review type: Attraction\n",
      "Soup result: [<div class=\"_c\">&lt; 1 hour</div>]\n",
      "No more reviews to parse.\n",
      "Opening: ../assets/html/amorys-tomb-brewing-co-maynard-Attraction-g41669-d16656179-Reviews-Amory_s_Tomb_Brewing-Maynard_Massachusetts.dill\n",
      "Brewery name: amorys\n",
      "Review type: Attraction\n",
      "Soup result: [<div class=\"_c\">&lt; 1 hour</div>, <div class=\"_c\" data-automation=\"reviewCard\"><div class=\"mwPje f M k\"><div class=\"XExLl f u o\"><div class=\"hzzSG\"><div class=\"MLvbw f u\"><div class=\"AYlYS\" style=\"z-index:0\"><div class=\"\"><div class=\"tknvo ccudK Rb I o\"><div class=\"\"><a aria-hidden=\"true\" class=\"BMQDV _F G- wSSLS SwZTJ\" href=\"/Profile/Petitrobert54\" tabindex=\"-1\" target=\"_self\"><div class=\"FGwzt PaRlG\"><div aria-label=\"Petitrobert54\" class=\"NhWcC _R\" role=\"img\" style=\"width:32px;height:32px\"></div></div></a></div></div></div></div></div></div><div class=\"zpDvc\"><span class=\"biGQs _P fiohW fOtGX\"><a class=\"BMQDV _F G- wSSLS SwZTJ FGwzt ukgoS\" href=\"/Profile/Petitrobert54\" target=\"_self\">Petitrobert54</a></span><div class=\"JINyA\"><div class=\"biGQs _P pZUbB osNWb\"><span>Asheville, NC</span><span class=\"IugUm\">46 contributions</span></div></div></div></div><div class=\"f\"><button aria-label=\"Click to add helpful vote\" class=\"BrOJk u j z _F wSSLS HuPlH Vonfv\" type=\"button\"><svg class=\"d Vb UmNoP\" height=\"20px\" viewbox=\"0 0 24 24\" width=\"20px\"><path clip-rule=\"evenodd\" d=\"M14.379 4.749a2.592 2.592 0 00-.003.038l-.003.036a5.038 5.038 0 01-.006.068.831.831 0 01-.015.109l-.965 4.7h6.338a.25.25 0 01.248.283l-1.229 7.995v.002a.25.25 0 01-.25.212H7.98V10.79l4.894-4.7.963-.903c.061-.05.125-.11.169-.151l.02-.02a3.01 3.01 0 01.182-.16.645.645 0 01.172-.107zm.648-1.397c.23.092.384.224.479.313.206.194.29.436.326.58.041.16.055.32.055.447v.036l-.004.035-.012.144-.002.028-.008.09a2.303 2.303 0 01-.04.275l-.595 2.9h4.5a1.75 1.75 0 011.732 1.996l-.002.009-1.229 8a1.751 1.751 0 01-1.745 1.487H6.48v-9.54l5.365-5.154 1.013-.949.028-.021.03-.027a5.72 5.72 0 00.058-.055l.028-.026c.07-.064.165-.152.275-.24.203-.16.552-.398 1-.43.272-.018.521.01.751.102zM3.275 9.763a.75.75 0 01.75.75v9.492h-1.5v-9.491a.75.75 0 01.75-.75z\" fill-rule=\"evenodd\"></path></svg><span class=\"kLqdM\"><span class=\"biGQs _P FwFXZ\">0</span></span></button><div class=\"_T\"><div class=\"w _T\"><button aria-haspopup=\"menu\" aria-label=\"Open Options Menu\" class=\"BrOJk u j z _F wSSLS HuPlH Vonfv\" type=\"button\"><svg class=\"d Vb UmNoP\" height=\"20px\" viewbox=\"0 0 24 24\" width=\"20px\" x=\"0\" y=\"0\"><circle cx=\"12\" cy=\"19.4\" r=\"2.5\"></circle><circle cx=\"12\" cy=\"4.4\" r=\"2.5\"></circle><circle cx=\"12\" cy=\"11.9\" r=\"2.5\"></circle></svg></button></div></div></div></div><div><svg aria-label=\"4.0 of 5 bubbles\" class=\"UctUV d H0\" height=\"16\" viewbox=\"0 0 128 24\" width=\"88\"><path d=\"M 12 0C5.388 0 0 5.388 0 12s5.388 12 12 12 12-5.38 12-12c0-6.612-5.38-12-12-12z\" transform=\"\"></path><path d=\"M 12 0C5.388 0 0 5.388 0 12s5.388 12 12 12 12-5.38 12-12c0-6.612-5.38-12-12-12z\" transform=\"translate(26 0)\"></path><path d=\"M 12 0C5.388 0 0 5.388 0 12s5.388 12 12 12 12-5.38 12-12c0-6.612-5.38-12-12-12z\" transform=\"translate(52 0)\"></path><path d=\"M 12 0C5.388 0 0 5.388 0 12s5.388 12 12 12 12-5.38 12-12c0-6.612-5.38-12-12-12z\" transform=\"translate(78 0)\"></path><path d=\"M 12 0C5.388 0 0 5.388 0 12s5.388 12 12 12 12-5.38 12-12c0-6.612-5.38-12-12-12zm0 2a9.983 9.983 0 019.995 10 10 10 0 01-10 10A10 10 0 012 12 10 10 0 0112 2z\" transform=\"translate(104 0)\"></path></svg></div><div class=\"biGQs _P fiohW qWPrE ncFvv fOtGX\"><a class=\"BMQDV _F G- wSSLS SwZTJ FGwzt ukgoS\" href=\"/ShowUserReviews-g41669-d16656179-r703350626-Amory_s_Tomb_Brewing-Maynard_Massachusetts.html\" tabindex=\"0\" target=\"_blank\"><span class=\"yCeTE\">Good beer and great ambiance</span></a></div><div class=\"RpeCd\">Aug 2019 • Couples</div><div class=\"_T FKffI bmUTE\"><div class=\"fIrGe _T bgMZj\" style=\"-webkit-line-clamp:7;line-break:normal;cursor:pointer\"><div class=\"biGQs _P pZUbB KxBGd\"><span class=\"yCeTE\">Our son just bought a house in Maynard and been bragging about this place. Really enjoyed their IPA and the staff was very friendly. We’ll be back!</span></div></div><div class=\"lszDU\"><button class=\"UikNM _G B- _S _T c G_ P0 wSSLS wnNQG\" type=\"button\"><span class=\"biGQs _P XWJSj Wb\">Read more</span><div class=\"CECjK\"><svg class=\"d Vb UmNoP\" height=\"20px\" viewbox=\"0 0 25 24\" width=\"20px\"><path clip-rule=\"evenodd\" d=\"M5.188 7.521l6.836 6.837 6.837-6.837 1.06 1.06-7.366 7.368a.75.75 0 01-1.061 0L4.127 8.582l1.06-1.06z\" fill-rule=\"evenodd\"></path></svg></div></button></div></div><div></div><div class=\"TreSq\"><div class=\"biGQs _P pZUbB ncFvv osNWb\">Written August 26, 2019</div><div class=\"biGQs _P pZUbB mowmC osNWb\">This review is the subjective opinion of a Tripadvisor member and not of Tripadvisor LLC. Tripadvisor performs checks on reviews.</div></div></div>, <div class=\"_c\" data-automation=\"reviewCard\"><div class=\"mwPje f M k\"><div class=\"XExLl f u o\"><div class=\"hzzSG\"><div class=\"MLvbw f u\"><div class=\"AYlYS\" style=\"z-index:0\"><div class=\"\"><div class=\"tknvo ccudK Rb I o\"><div class=\"\"><a aria-hidden=\"true\" class=\"BMQDV _F G- wSSLS SwZTJ\" href=\"/Profile/bbaileyconcord\" tabindex=\"-1\" target=\"_self\"><div class=\"FGwzt PaRlG\"><div aria-label=\"Brian b\" class=\"NhWcC _R\" role=\"img\" style=\"width:32px;height:32px\"></div></div></a></div></div></div></div></div></div><div class=\"zpDvc\"><span class=\"biGQs _P fiohW fOtGX\"><a class=\"BMQDV _F G- wSSLS SwZTJ FGwzt ukgoS\" href=\"/Profile/bbaileyconcord\" target=\"_self\">Brian b</a></span><div class=\"JINyA\"><div class=\"biGQs _P pZUbB osNWb\"><span>Concord, MA</span><span class=\"IugUm\">56 contributions</span></div></div></div></div><div class=\"f\"><button aria-label=\"Click to add helpful vote\" class=\"BrOJk u j z _F wSSLS HuPlH Vonfv\" type=\"button\"><svg class=\"d Vb UmNoP\" height=\"20px\" viewbox=\"0 0 24 24\" width=\"20px\"><path clip-rule=\"evenodd\" d=\"M14.379 4.749a2.592 2.592 0 00-.003.038l-.003.036a5.038 5.038 0 01-.006.068.831.831 0 01-.015.109l-.965 4.7h6.338a.25.25 0 01.248.283l-1.229 7.995v.002a.25.25 0 01-.25.212H7.98V10.79l4.894-4.7.963-.903c.061-.05.125-.11.169-.151l.02-.02a3.01 3.01 0 01.182-.16.645.645 0 01.172-.107zm.648-1.397c.23.092.384.224.479.313.206.194.29.436.326.58.041.16.055.32.055.447v.036l-.004.035-.012.144-.002.028-.008.09a2.303 2.303 0 01-.04.275l-.595 2.9h4.5a1.75 1.75 0 011.732 1.996l-.002.009-1.229 8a1.751 1.751 0 01-1.745 1.487H6.48v-9.54l5.365-5.154 1.013-.949.028-.021.03-.027a5.72 5.72 0 00.058-.055l.028-.026c.07-.064.165-.152.275-.24.203-.16.552-.398 1-.43.272-.018.521.01.751.102zM3.275 9.763a.75.75 0 01.75.75v9.492h-1.5v-9.491a.75.75 0 01.75-.75z\" fill-rule=\"evenodd\"></path></svg><span class=\"kLqdM\"><span class=\"biGQs _P FwFXZ\">0</span></span></button><div class=\"_T\"><div class=\"w _T\"><button aria-haspopup=\"menu\" aria-label=\"Open Options Menu\" class=\"BrOJk u j z _F wSSLS HuPlH Vonfv\" type=\"button\"><svg class=\"d Vb UmNoP\" height=\"20px\" viewbox=\"0 0 24 24\" width=\"20px\" x=\"0\" y=\"0\"><circle cx=\"12\" cy=\"19.4\" r=\"2.5\"></circle><circle cx=\"12\" cy=\"4.4\" r=\"2.5\"></circle><circle cx=\"12\" cy=\"11.9\" r=\"2.5\"></circle></svg></button></div></div></div></div><div><svg aria-label=\"4.0 of 5 bubbles\" class=\"UctUV d H0\" height=\"16\" viewbox=\"0 0 128 24\" width=\"88\"><path d=\"M 12 0C5.388 0 0 5.388 0 12s5.388 12 12 12 12-5.38 12-12c0-6.612-5.38-12-12-12z\" transform=\"\"></path><path d=\"M 12 0C5.388 0 0 5.388 0 12s5.388 12 12 12 12-5.38 12-12c0-6.612-5.38-12-12-12z\" transform=\"translate(26 0)\"></path><path d=\"M 12 0C5.388 0 0 5.388 0 12s5.388 12 12 12 12-5.38 12-12c0-6.612-5.38-12-12-12z\" transform=\"translate(52 0)\"></path><path d=\"M 12 0C5.388 0 0 5.388 0 12s5.388 12 12 12 12-5.38 12-12c0-6.612-5.38-12-12-12z\" transform=\"translate(78 0)\"></path><path d=\"M 12 0C5.388 0 0 5.388 0 12s5.388 12 12 12 12-5.38 12-12c0-6.612-5.38-12-12-12zm0 2a9.983 9.983 0 019.995 10 10 10 0 01-10 10A10 10 0 012 12 10 10 0 0112 2z\" transform=\"translate(104 0)\"></path></svg></div><div class=\"biGQs _P fiohW qWPrE ncFvv fOtGX\"><a class=\"BMQDV _F G- wSSLS SwZTJ FGwzt ukgoS\" href=\"/ShowUserReviews-g41669-d16656179-r666692761-Amory_s_Tomb_Brewing-Maynard_Massachusetts.html\" tabindex=\"0\" target=\"_blank\"><span class=\"yCeTE\">Amory's tomb is a craft beer secret</span></a></div><div class=\"RpeCd\">Mar 2019 • Friends</div><div class=\"_T FKffI bmUTE\"><div class=\"fIrGe _T bgMZj\" style=\"-webkit-line-clamp:7;line-break:normal;cursor:pointer\"><div class=\"biGQs _P pZUbB KxBGd\"><span class=\"yCeTE\">The location is hard to find, even though it is in plain site.  I feels a bit like a secret place for beer aficionados.   There is minimal signage, and it is open only certain days and times of the week, as it is staffed by the owners/brewers.  These are beer people.  The locations feels a bit like Medusa in Hudson on a smaller scale, with barstools supplemented by picnic-table style seating.  They encourage people to bring food in to eat with their beer from the many good restaurants surrounding the brewpub.  I was surprised by the number and variety of the beers that they have on tap at one time with a variety of tastes from IPA to saison to pale, stout and porter.  I felt as if I had found a secret brewpub and that I was in early on something new.</span></div></div><div class=\"lszDU\"><button class=\"UikNM _G B- _S _T c G_ P0 wSSLS wnNQG\" type=\"button\"><span class=\"biGQs _P XWJSj Wb\">Read more</span><div class=\"CECjK\"><svg class=\"d Vb UmNoP\" height=\"20px\" viewbox=\"0 0 25 24\" width=\"20px\"><path clip-rule=\"evenodd\" d=\"M5.188 7.521l6.836 6.837 6.837-6.837 1.06 1.06-7.366 7.368a.75.75 0 01-1.061 0L4.127 8.582l1.06-1.06z\" fill-rule=\"evenodd\"></path></svg></div></button></div></div><div></div><div class=\"TreSq\"><div class=\"biGQs _P pZUbB ncFvv osNWb\">Written April 15, 2019</div><div class=\"biGQs _P pZUbB mowmC osNWb\">This review is the subjective opinion of a Tripadvisor member and not of Tripadvisor LLC. Tripadvisor performs checks on reviews.</div></div></div>, <div class=\"_c\" data-automation=\"reviewCard\"><div class=\"mwPje f M k\"><div class=\"XExLl f u o\"><div class=\"hzzSG\"><div class=\"MLvbw f u\"><div class=\"AYlYS\" style=\"z-index:0\"><div class=\"\"><div class=\"tknvo ccudK Rb I o\"><div class=\"\"><a aria-hidden=\"true\" class=\"BMQDV _F G- wSSLS SwZTJ\" href=\"/Profile/LonnaLinda\" tabindex=\"-1\" target=\"_self\"><div class=\"FGwzt PaRlG\"><div aria-label=\"LonnaLinda\" class=\"NhWcC _R\" role=\"img\" style=\"width:32px;height:32px\"></div></div></a></div></div></div></div></div></div><div class=\"zpDvc\"><span class=\"biGQs _P fiohW fOtGX\"><a class=\"BMQDV _F G- wSSLS SwZTJ FGwzt ukgoS\" href=\"/Profile/LonnaLinda\" target=\"_self\">LonnaLinda</a></span><div class=\"JINyA\"><div class=\"biGQs _P pZUbB osNWb\"><span>Long Beach,CA</span><span class=\"IugUm\">809 contributions</span></div></div></div></div><div class=\"f\"><button aria-label=\"Click to add helpful vote\" class=\"BrOJk u j z _F wSSLS HuPlH Vonfv\" type=\"button\"><svg class=\"d Vb UmNoP\" height=\"20px\" viewbox=\"0 0 24 24\" width=\"20px\"><path clip-rule=\"evenodd\" d=\"M14.379 4.749a2.592 2.592 0 00-.003.038l-.003.036a5.038 5.038 0 01-.006.068.831.831 0 01-.015.109l-.965 4.7h6.338a.25.25 0 01.248.283l-1.229 7.995v.002a.25.25 0 01-.25.212H7.98V10.79l4.894-4.7.963-.903c.061-.05.125-.11.169-.151l.02-.02a3.01 3.01 0 01.182-.16.645.645 0 01.172-.107zm.648-1.397c.23.092.384.224.479.313.206.194.29.436.326.58.041.16.055.32.055.447v.036l-.004.035-.012.144-.002.028-.008.09a2.303 2.303 0 01-.04.275l-.595 2.9h4.5a1.75 1.75 0 011.732 1.996l-.002.009-1.229 8a1.751 1.751 0 01-1.745 1.487H6.48v-9.54l5.365-5.154 1.013-.949.028-.021.03-.027a5.72 5.72 0 00.058-.055l.028-.026c.07-.064.165-.152.275-.24.203-.16.552-.398 1-.43.272-.018.521.01.751.102zM3.275 9.763a.75.75 0 01.75.75v9.492h-1.5v-9.491a.75.75 0 01.75-.75z\" fill-rule=\"evenodd\"></path></svg><span class=\"kLqdM\"><span class=\"biGQs _P FwFXZ\">1</span></span></button><div class=\"_T\"><div class=\"w _T\"><button aria-haspopup=\"menu\" aria-label=\"Open Options Menu\" class=\"BrOJk u j z _F wSSLS HuPlH Vonfv\" type=\"button\"><svg class=\"d Vb UmNoP\" height=\"20px\" viewbox=\"0 0 24 24\" width=\"20px\" x=\"0\" y=\"0\"><circle cx=\"12\" cy=\"19.4\" r=\"2.5\"></circle><circle cx=\"12\" cy=\"4.4\" r=\"2.5\"></circle><circle cx=\"12\" cy=\"11.9\" r=\"2.5\"></circle></svg></button></div></div></div></div><div><svg aria-label=\"4.0 of 5 bubbles\" class=\"UctUV d H0\" height=\"16\" viewbox=\"0 0 128 24\" width=\"88\"><path d=\"M 12 0C5.388 0 0 5.388 0 12s5.388 12 12 12 12-5.38 12-12c0-6.612-5.38-12-12-12z\" transform=\"\"></path><path d=\"M 12 0C5.388 0 0 5.388 0 12s5.388 12 12 12 12-5.38 12-12c0-6.612-5.38-12-12-12z\" transform=\"translate(26 0)\"></path><path d=\"M 12 0C5.388 0 0 5.388 0 12s5.388 12 12 12 12-5.38 12-12c0-6.612-5.38-12-12-12z\" transform=\"translate(52 0)\"></path><path d=\"M 12 0C5.388 0 0 5.388 0 12s5.388 12 12 12 12-5.38 12-12c0-6.612-5.38-12-12-12z\" transform=\"translate(78 0)\"></path><path d=\"M 12 0C5.388 0 0 5.388 0 12s5.388 12 12 12 12-5.38 12-12c0-6.612-5.38-12-12-12zm0 2a9.983 9.983 0 019.995 10 10 10 0 01-10 10A10 10 0 012 12 10 10 0 0112 2z\" transform=\"translate(104 0)\"></path></svg></div><div class=\"biGQs _P fiohW qWPrE ncFvv fOtGX\"><a class=\"BMQDV _F G- wSSLS SwZTJ FGwzt ukgoS\" href=\"/ShowUserReviews-g41669-d16656179-r654312935-Amory_s_Tomb_Brewing-Maynard_Massachusetts.html\" tabindex=\"0\" target=\"_blank\"><span class=\"yCeTE\">Excellent visit - awesome beers</span></a></div><div class=\"RpeCd\">Feb 2019 • Couples</div><div class=\"_T FKffI bmUTE\"><div class=\"fIrGe _T bgMZj\" style=\"-webkit-line-clamp:7;line-break:normal;cursor:pointer\"><div class=\"biGQs _P pZUbB KxBGd\"><span class=\"yCeTE\">Drove from Boston to Littleton and wanted a unique stop along the way.  Did my research and visited Amory's Tomb in Maynard.  What a delight!  Stopped by Roasted Peppers restaurant down the street and got a Panini sandwich to bring to Amory's.  (They allow food to be brought in since they only have snacks at the bar).  <br/>Tried 4 different draft offerings - all were very very good.  Friendly owners who I enjoyed speaking with.  <br/><br/>We enjoyed their beer so much that I went back on Sunday to pack up a growler (Saison III Citra/Mandarina Farmhouse Ale) to put in my suitcase for the flight home to California.  They helped me pack it up and just enjoyed it last night.  Happy that I had no issues with it packed in my suitcase.  Love the logo too.<br/><br/>Highly recommend going to Amory's Tomb.</span></div></div><div class=\"lszDU\"><button class=\"UikNM _G B- _S _T c G_ P0 wSSLS wnNQG\" type=\"button\"><span class=\"biGQs _P XWJSj Wb\">Read more</span><div class=\"CECjK\"><svg class=\"d Vb UmNoP\" height=\"20px\" viewbox=\"0 0 25 24\" width=\"20px\"><path clip-rule=\"evenodd\" d=\"M5.188 7.521l6.836 6.837 6.837-6.837 1.06 1.06-7.366 7.368a.75.75 0 01-1.061 0L4.127 8.582l1.06-1.06z\" fill-rule=\"evenodd\"></path></svg></div></button></div></div><div></div><div class=\"TreSq\"><div class=\"biGQs _P pZUbB ncFvv osNWb\">Written February 23, 2019</div><div class=\"biGQs _P pZUbB mowmC osNWb\">This review is the subjective opinion of a Tripadvisor member and not of Tripadvisor LLC. Tripadvisor performs checks on reviews.</div></div></div>, <div class=\"_c\" data-automation=\"reviewCard\"><div class=\"mwPje f M k\"><div class=\"XExLl f u o\"><div class=\"hzzSG\"><div class=\"MLvbw f u\"><div class=\"AYlYS\" style=\"z-index:0\"><div class=\"\"><div class=\"tknvo ccudK Rb I o\"><div class=\"\"><a aria-hidden=\"true\" class=\"BMQDV _F G- wSSLS SwZTJ\" href=\"/Profile/themotorcyclebeerman\" tabindex=\"-1\" target=\"_self\"><div class=\"FGwzt PaRlG\"><div aria-label=\"The Beer Man\" class=\"NhWcC _R\" role=\"img\" style=\"width:32px;height:32px\"></div></div></a></div></div></div></div></div></div><div class=\"zpDvc\"><span class=\"biGQs _P fiohW fOtGX\"><a class=\"BMQDV _F G- wSSLS SwZTJ FGwzt ukgoS\" href=\"/Profile/themotorcyclebeerman\" target=\"_self\">The Beer Man</a></span><div class=\"JINyA\"><div class=\"biGQs _P pZUbB osNWb\"><span>Conroe, TX</span><span class=\"IugUm\">1,517 contributions</span></div></div></div></div><div class=\"f\"><button aria-label=\"Click to add helpful vote\" class=\"BrOJk u j z _F wSSLS HuPlH Vonfv\" type=\"button\"><svg class=\"d Vb UmNoP\" height=\"20px\" viewbox=\"0 0 24 24\" width=\"20px\"><path clip-rule=\"evenodd\" d=\"M14.379 4.749a2.592 2.592 0 00-.003.038l-.003.036a5.038 5.038 0 01-.006.068.831.831 0 01-.015.109l-.965 4.7h6.338a.25.25 0 01.248.283l-1.229 7.995v.002a.25.25 0 01-.25.212H7.98V10.79l4.894-4.7.963-.903c.061-.05.125-.11.169-.151l.02-.02a3.01 3.01 0 01.182-.16.645.645 0 01.172-.107zm.648-1.397c.23.092.384.224.479.313.206.194.29.436.326.58.041.16.055.32.055.447v.036l-.004.035-.012.144-.002.028-.008.09a2.303 2.303 0 01-.04.275l-.595 2.9h4.5a1.75 1.75 0 011.732 1.996l-.002.009-1.229 8a1.751 1.751 0 01-1.745 1.487H6.48v-9.54l5.365-5.154 1.013-.949.028-.021.03-.027a5.72 5.72 0 00.058-.055l.028-.026c.07-.064.165-.152.275-.24.203-.16.552-.398 1-.43.272-.018.521.01.751.102zM3.275 9.763a.75.75 0 01.75.75v9.492h-1.5v-9.491a.75.75 0 01.75-.75z\" fill-rule=\"evenodd\"></path></svg><span class=\"kLqdM\"><span class=\"biGQs _P FwFXZ\">2</span></span></button><div class=\"_T\"><div class=\"w _T\"><button aria-haspopup=\"menu\" aria-label=\"Open Options Menu\" class=\"BrOJk u j z _F wSSLS HuPlH Vonfv\" type=\"button\"><svg class=\"d Vb UmNoP\" height=\"20px\" viewbox=\"0 0 24 24\" width=\"20px\" x=\"0\" y=\"0\"><circle cx=\"12\" cy=\"19.4\" r=\"2.5\"></circle><circle cx=\"12\" cy=\"4.4\" r=\"2.5\"></circle><circle cx=\"12\" cy=\"11.9\" r=\"2.5\"></circle></svg></button></div></div></div></div><div><svg aria-label=\"3.0 of 5 bubbles\" class=\"UctUV d H0\" height=\"16\" viewbox=\"0 0 128 24\" width=\"88\"><path d=\"M 12 0C5.388 0 0 5.388 0 12s5.388 12 12 12 12-5.38 12-12c0-6.612-5.38-12-12-12z\" transform=\"\"></path><path d=\"M 12 0C5.388 0 0 5.388 0 12s5.388 12 12 12 12-5.38 12-12c0-6.612-5.38-12-12-12z\" transform=\"translate(26 0)\"></path><path d=\"M 12 0C5.388 0 0 5.388 0 12s5.388 12 12 12 12-5.38 12-12c0-6.612-5.38-12-12-12z\" transform=\"translate(52 0)\"></path><path d=\"M 12 0C5.388 0 0 5.388 0 12s5.388 12 12 12 12-5.38 12-12c0-6.612-5.38-12-12-12zm0 2a9.983 9.983 0 019.995 10 10 10 0 01-10 10A10 10 0 012 12 10 10 0 0112 2z\" transform=\"translate(78 0)\"></path><path d=\"M 12 0C5.388 0 0 5.388 0 12s5.388 12 12 12 12-5.38 12-12c0-6.612-5.38-12-12-12zm0 2a9.983 9.983 0 019.995 10 10 10 0 01-10 10A10 10 0 012 12 10 10 0 0112 2z\" transform=\"translate(104 0)\"></path></svg></div><div class=\"biGQs _P fiohW qWPrE ncFvv fOtGX\"><a class=\"BMQDV _F G- wSSLS SwZTJ FGwzt ukgoS\" href=\"/ShowUserReviews-g41669-d16656179-r651209277-Amory_s_Tomb_Brewing-Maynard_Massachusetts.html\" tabindex=\"0\" target=\"_blank\"><span class=\"yCeTE\">Maynard's Second Brewery</span></a></div><div class=\"RpeCd\">Jan 2019 • Solo</div><div class=\"_T FKffI bmUTE\"><div class=\"fIrGe _T bgMZj\" style=\"-webkit-line-clamp:7;line-break:normal;cursor:pointer\"><div class=\"biGQs _P pZUbB KxBGd\"><span class=\"yCeTE\">Amory's Tomb Brewing Co. is the second brewery to open in Maynard, MA.  They have seven beers on tap.  I tried two of the seven.  The two were drinkable but not outstanding.  I think they will get there as they move forward.  My biggest gripe about the Amory's Tomb Brewing Co. is their lack of signage on the building.  I drove passed it three times trying to find it.  I finally parked and walked to find it.  Once I tracked it down by address, I noticed there was small faded sign on the wall next to the door.</span></div></div><div class=\"lszDU\"><button class=\"UikNM _G B- _S _T c G_ P0 wSSLS wnNQG\" type=\"button\"><span class=\"biGQs _P XWJSj Wb\">Read more</span><div class=\"CECjK\"><svg class=\"d Vb UmNoP\" height=\"20px\" viewbox=\"0 0 25 24\" width=\"20px\"><path clip-rule=\"evenodd\" d=\"M5.188 7.521l6.836 6.837 6.837-6.837 1.06 1.06-7.366 7.368a.75.75 0 01-1.061 0L4.127 8.582l1.06-1.06z\" fill-rule=\"evenodd\"></path></svg></div></button></div></div><div></div><div class=\"TreSq\"><div class=\"biGQs _P pZUbB ncFvv osNWb\">Written February 10, 2019</div><div class=\"biGQs _P pZUbB mowmC osNWb\">This review is the subjective opinion of a Tripadvisor member and not of Tripadvisor LLC. Tripadvisor performs checks on reviews.</div></div></div>]\n",
      "Writing to ../assets/text/amorys-Attraction-g41669-d16656179-Reviews-Amory_s_Tomb_Brewing-Maynard_Massachusetts.txt\n",
      "Writing to ../assets/text/amorys-Attraction-g41669-d16656179-Reviews-Amory_s_Tomb_Brewing-Maynard_Massachusetts.txt\n",
      "Writing to ../assets/text/amorys-Attraction-g41669-d16656179-Reviews-Amory_s_Tomb_Brewing-Maynard_Massachusetts.txt\n",
      "Writing to ../assets/text/amorys-Attraction-g41669-d16656179-Reviews-Amory_s_Tomb_Brewing-Maynard_Massachusetts.txt\n"
     ]
    }
   ],
   "source": [
    "# TODO SANDBOX\n",
    "# TODO running parse_soup() will append duplicate reviews to the txt files if they already exist\n",
    "\n",
    "def debug_reviews(path, filename, url_base):\n",
    "    with open(path + filename, 'rb') as f:\n",
    "        print(f'Opening: {path + filename}')\n",
    "        debug_page = dill.load(f)\n",
    "    debug_soup = BeautifulSoup(debug_page.content, 'html.parser')\n",
    "    review_type, pages = get_review_type(url_base)\n",
    "    # extract brewery name\n",
    "    brewery = re.findall(r'^[A-Za-z\\d_]+', filename)[0]\n",
    "    print(f'Brewery name: {brewery}')\n",
    "    brew_id = get_brew_id(brewery, url_base, review_type)\n",
    "    print(f'Review type: {review_type}')\n",
    "    soup_output = debug_soup.find_all('div', class_='_c')\n",
    "    print(f'Soup result: {soup_output}')\n",
    "    # print(len(soup_output[0]))\n",
    "    reviews = parse_soup(debug_soup, brew_id, review_type)\n",
    "    # print(reviews)\n",
    "    return\n",
    "\n",
    "path = '../assets/html/'\n",
    "\n",
    "## Case\n",
    "# filename = 'Amorys_Tomb_Brewing_Co-g41669-d16656179-Reviews-Amory_s_Tomb_Brewing-Maynard_Massachusetts.dill'\n",
    "# url_base = 'https://www.tripadvisor.com/Attraction_Review-g41669-d16656179-Reviews-Amory_s_Tomb_Brewing-Maynard_Massachusetts.html'\n",
    "# debug_reviews(path, filename, url_base)\n",
    "\n",
    "## Case\n",
    "# filename = 'Amherst_Brewing_Co__Hangar_Pub_and_Grill-g29510-d1067968-Reviews-Hangar_Pub_Grill-Amherst_Hampshire_County_Massachusetts.dill'\n",
    "# url_base = 'https://www.tripadvisor.com/Restaurant_Review-g29510-d1067968-Reviews-Hangar_Pub_Grill-Amherst_Hampshire_County_Massachusetts.html'\n",
    "# debug_reviews(path, filename, url_base)\n",
    "\n",
    "## Case\n",
    "# filename = 'Aquatic_Brewing_LLC-g41565-d22754735-Reviews-Aquatic_Brewing-Falmouth_Cape_Cod_Massachusetts.dill'\n",
    "# url_base = 'https://www.tripadvisor.com/Attraction_Review-g41565-d22754735-Reviews-Aquatic_Brewing-Falmouth_Cape_Cod_Massachusetts.html'\n",
    "# debug_reviews(path, filename, url_base)\n",
    "\n",
    "## CASE\n",
    "# filename = 'Honest_Weight_Artisan_Beer-g41754-d10342647-Reviews-Honest_Weight_Artisan_Beer-Orange_Massachusetts-or10.dill'\n",
    "# url_base = 'https://www.tripadvisor.com/Attraction_Review-g41754-d10342647-Reviews-Honest_Weight_Artisan_Beer-Orange_Massachusetts.html'\n",
    "# debug_reviews(path, filename, url_base)\n",
    "\n",
    "## CASE\n",
    "filename = 'amorys-tomb-brewing-co-maynard-Attraction-g41669-d16656179-Reviews-Amory_s_Tomb_Brewing-Maynard_Massachusetts-or10.dill'\n",
    "url_base = 'https://www.tripadvisor.com/Attraction_Review-g41669-d16656179-Reviews-or10-Amory_s_Tomb_Brewing-Maynard_Massachusetts.html'\n",
    "debug_reviews(path, filename, url_base)\n",
    "\n",
    "## CASE\n",
    "filename = 'amorys-tomb-brewing-co-maynard-Attraction-g41669-d16656179-Reviews-Amory_s_Tomb_Brewing-Maynard_Massachusetts.dill'\n",
    "url_base = 'https://www.tripadvisor.com/Attraction_Review-g41669-d16656179-Reviews-Amory_s_Tomb_Brewing-Maynard_Massachusetts.html'\n",
    "debug_reviews(path, filename, url_base)"
   ]
  },
  {
   "cell_type": "code",
   "execution_count": null,
   "metadata": {},
   "outputs": [],
   "source": []
  },
  {
   "cell_type": "code",
   "execution_count": 63,
   "metadata": {},
   "outputs": [],
   "source": [
    "# TODO Practice storing the scraped data in a SQL database\n",
    "from sqlalchemy import Column, Date, Integer, String\n",
    "from sqlalchemy.orm import declarative_base, sessionmaker\n",
    "\n",
    "engine = create_engine(\"sqlite:///../assets/foo.db\")\n",
    "Base = declarative_base()\n",
    "\n",
    "class City(Base):\n",
    "\n",
    "    __tablename__ = \"cities\"\n",
    "\n",
    "    id = Column(Integer, primary_key=True)\n",
    "    name = Column(String)  \n",
    "\n",
    "    # def __init__(self, name):\n",
    "    #     self.name = name    \n",
    "\n",
    "Base.metadata.create_all(engine)"
   ]
  },
  {
   "cell_type": "code",
   "execution_count": 64,
   "metadata": {},
   "outputs": [],
   "source": [
    "# Set up the Session\n",
    "Session = sessionmaker()\n",
    "Session.configure(bind=engine)\n",
    "session = Session()"
   ]
  },
  {
   "cell_type": "code",
   "execution_count": 66,
   "metadata": {},
   "outputs": [
    {
     "name": "stdout",
     "output_type": "stream",
     "text": [
      "Count: 3\n",
      "New Count: 3\n"
     ]
    }
   ],
   "source": [
    "print(f'Count: {session.query(City).count()}')\n",
    "\n",
    "names = ['A', 'B', 'C']\n",
    "ids = ['1', '2', '3']\n",
    "for name, id in zip(names, ids):\n",
    "    if session.query(City).filter(City.id==id).first() is None:\n",
    "        new_city = City(name=name, id=id)\n",
    "        session.add(new_city)\n",
    "\n",
    "# Write to DB\n",
    "session.commit()\n",
    "\n",
    "print(f'New Count: {session.query(City).count()}')"
   ]
  },
  {
   "cell_type": "code",
   "execution_count": 67,
   "metadata": {},
   "outputs": [
    {
     "name": "stdout",
     "output_type": "stream",
     "text": [
      "1 A\n",
      "2 B\n",
      "3 C\n"
     ]
    }
   ],
   "source": [
    "# Inspect table\n",
    "for city in session.query(City).limit(10):\n",
    "    print(city.id, city.name)"
   ]
  }
 ],
 "metadata": {
  "kernelspec": {
   "display_name": ".venv_main",
   "language": "python",
   "name": "python3"
  },
  "language_info": {
   "codemirror_mode": {
    "name": "ipython",
    "version": 3
   },
   "file_extension": ".py",
   "mimetype": "text/x-python",
   "name": "python",
   "nbconvert_exporter": "python",
   "pygments_lexer": "ipython3",
   "version": "3.9.12"
  },
  "orig_nbformat": 4,
  "vscode": {
   "interpreter": {
    "hash": "3c69408b1de648bf110e3cbae52f18af38dc9daa774b13f8aaf5c2891ede9dc7"
   }
  }
 },
 "nbformat": 4,
 "nbformat_minor": 2
}
