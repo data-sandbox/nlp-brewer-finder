{
 "cells": [
  {
   "attachments": {},
   "cell_type": "markdown",
   "metadata": {},
   "source": [
    "## **00 Preprocess Brewery List**\n",
    "The list of breweries from Open Brewery DB contains a lot of missing latitude, longitude information which is necessary for mapping purposes. This script takes the address field, strips additional information (Suite, Bldg, etc.) that confuses geocoders, then searches for lat / lon information using the cleaned address.\n",
    "\n",
    "### **Notebook Objectives**\n",
    "1. Clean address fields using regular expressions\n",
    "2. Search for missing lat / lon info using the cleaned address and geocoder API\n",
    "3. Export cleaned csv containing the updated address and lat / lon info "
   ]
  },
  {
   "cell_type": "code",
   "execution_count": null,
   "metadata": {},
   "outputs": [],
   "source": [
    "from pathlib import Path\n",
    "from dotenv import dotenv_values\n",
    "import requests\n",
    "import time\n",
    "import pandas as pd\n",
    "import re\n",
    "import logging\n",
    "\n",
    "logging.basicConfig(filename='address.log', filemode='w', \n",
    "        level=logging.DEBUG, force=True,\n",
    "        format='%(asctime)s %(levelname)s:%(message)s')\n",
    "\n",
    "config = dotenv_values(dotenv_path=Path('../.env'))"
   ]
  },
  {
   "cell_type": "code",
   "execution_count": null,
   "metadata": {},
   "outputs": [],
   "source": [
    "def geocode(address):\n",
    "    '''Get lat/lon from address'''\n",
    "    params = { 'format': 'json', \n",
    "               'addressdetails': 1, \n",
    "               'q': address}\n",
    "    headers = { 'user-agent'   : config['USER_AGENT'] } \n",
    "    return requests.get('http://nominatim.openstreetmap.org/search', \n",
    "                        params=params, headers=headers)\n",
    "\n",
    "def clean_address(inputpath, outputpath, start_index=0):\n",
    "    '''Clean street address, then search for missing lat/lon'''\n",
    "    df = pd.read_csv(inputpath)\n",
    "    df['street_clean'] = df['street'].apply(lambda x: re.sub(r\"Ste [A-Za-z0-9\\-]+\", '', str(x)))\n",
    "    df['street_clean'] = df['street_clean'].apply(lambda x: re.sub(r\"Unit [A-Za-z0-9\\-]+\", '', str(x)))\n",
    "    df['street_clean'] = df['street_clean'].apply(lambda x: re.sub(r\"# [A-Za-z0-9\\-]+\", '', str(x)))\n",
    "    df['street_clean'] = df['street_clean'].apply(lambda x: re.sub(r\"Bldg [A-Za-z0-9\\-]+\", '', str(x)))\n",
    "    df['street_clean'] = df['street_clean'].apply(lambda x: re.sub(r\"\\(Route [A-Za-z0-9\\-]+\\)\", '', str(x)))\n",
    "    df['street_clean'] = df['street_clean'].apply(lambda x: re.sub(r\"Suite [A-Za-z0-9\\-]+\", '', str(x)))\n",
    "    # Clean missing lat/lon\n",
    "    for index, row in df[start_index:].iterrows():\n",
    "        if pd.isnull(row['longitude']):\n",
    "            logging.info(f\"Searching address for {index} {row['name']}...\")\n",
    "            response = geocode(f\"{row['street_clean']}, {row['city']} {row['state']}\")\n",
    "            if response.json():\n",
    "                logging.info(f\"Lat lon found for {index} {row['name']}\")\n",
    "                df.at[index, 'latitude'] = response.json()[0]['lat']\n",
    "                df.at[index, 'longitude'] = response.json()[0]['lon']\n",
    "            time.sleep(4)\n",
    "    # Export cleaned table\n",
    "    df.to_csv(outputpath, index=False)\n",
    "    return df"
   ]
  },
  {
   "cell_type": "code",
   "execution_count": null,
   "metadata": {},
   "outputs": [],
   "source": [
    "# Clean missing lat/lon in brewery list\n",
    "input = Path('../assets/breweries.csv')\n",
    "output = Path('../assets/breweries_clean_address.csv') \n",
    "clean_address(input, output)"
   ]
  }
 ],
 "metadata": {
  "kernelspec": {
   "display_name": ".venv_main",
   "language": "python",
   "name": "python3"
  },
  "language_info": {
   "codemirror_mode": {
    "name": "ipython",
    "version": 3
   },
   "file_extension": ".py",
   "mimetype": "text/x-python",
   "name": "python",
   "nbconvert_exporter": "python",
   "pygments_lexer": "ipython3",
   "version": "3.9.12"
  },
  "orig_nbformat": 4,
  "vscode": {
   "interpreter": {
    "hash": "3c69408b1de648bf110e3cbae52f18af38dc9daa774b13f8aaf5c2891ede9dc7"
   }
  }
 },
 "nbformat": 4,
 "nbformat_minor": 2
}
