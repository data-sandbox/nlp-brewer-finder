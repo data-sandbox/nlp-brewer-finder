{
 "cells": [
  {
   "attachments": {},
   "cell_type": "markdown",
   "metadata": {},
   "source": [
    "## **02 Process Reviews**\n",
    "This notebook processes all of the review data scraped in the previous notebook and outputs a summary dataframe containing the brewery name, review rating, and review text for each individual review.\n",
    "\n",
    "### **Notebook Objectives**\n",
    "1. Extract the review data for each brewery from the directory of txt files\n",
    "2. Wrangle the data into a consistent form (scrape from 'Attraction' vs 'Restaurant' pages have slightly different formatting)\n",
    "3. Output a dataframe containing the processed review data"
   ]
  },
  {
   "cell_type": "code",
   "execution_count": 164,
   "metadata": {},
   "outputs": [],
   "source": [
    "import pandas as pd\n",
    "import re\n",
    "from pathlib import Path\n",
    "import random\n",
    "random.seed(10)"
   ]
  },
  {
   "cell_type": "code",
   "execution_count": 160,
   "metadata": {},
   "outputs": [],
   "source": [
    "def process_rating(raw):\n",
    "    # Attraction case\n",
    "    match1 = re.findall(r'^\\d.\\d', raw)\n",
    "    # Restaurant case\n",
    "    match2 = re.findall(r'\\d\\d', raw)\n",
    "    if match1:\n",
    "        rating = float(match1[0])\n",
    "        return rating\n",
    "    elif match2:\n",
    "        rating = float(match2[0][0] + '.' + match2[0][1])\n",
    "        return rating\n",
    "    else:\n",
    "        raise ValueError(f'Rating processing error: {raw}')\n",
    "\n",
    "def process_date():\n",
    "    return NotImplementedError\n",
    "\n",
    "def process_review(title, text):\n",
    "    title = title.strip('\\n')\n",
    "    text = text.strip('\\n')\n",
    "    text = text.strip('More')\n",
    "    review = title + '. ' + text\n",
    "    return review\n",
    "\n",
    "def append_df(df, brewery, rating, review):\n",
    "    name = [brewery] * len(rating)\n",
    "    reviews_df = pd.concat([df, \n",
    "    pd.DataFrame({'name' : name,\n",
    "                'rating' : rating,\n",
    "                'review' : review})], ignore_index=True)\n",
    "    return reviews_df\n",
    "\n",
    "def append_brewery_data(df, path):\n",
    "    brewery = re.findall(r'^.+\\/([A-Za-z\\d_]+)', str(path))[0]\n",
    "    # Extract data from review text\n",
    "    name = []\n",
    "    rating = []\n",
    "    review = []\n",
    "    with open(path, 'r') as f:\n",
    "        while True:\n",
    "            try:\n",
    "                raw_date = next(f)\n",
    "                raw_rating = next(f)\n",
    "                title = next(f)\n",
    "                text = next(f)\n",
    "                rating.append(process_rating(raw_rating))\n",
    "                review.append(process_review(title, text))\n",
    "            except StopIteration:\n",
    "                break\n",
    "    # Append new data to dataframe\n",
    "    return append_df(df, brewery, rating, review)"
   ]
  },
  {
   "cell_type": "code",
   "execution_count": 154,
   "metadata": {},
   "outputs": [],
   "source": [
    "# Initialize df\n",
    "reviews_df = pd.DataFrame(columns=['name', 'rating', 'review'])\n",
    "\n",
    "# Extract review data from all txt files in directory\n",
    "dir_path = '../assets/text/'\n",
    "paths = Path(dir_path).glob('**/*.txt')\n",
    "for path in paths:\n",
    "    reviews_df = append_brewery_data(reviews_df, path)\n",
    "\n",
    "# Sort alphabetically\n",
    "reviews_df = reviews_df.sort_values(by=['name'], ignore_index=True)"
   ]
  },
  {
   "cell_type": "code",
   "execution_count": 163,
   "metadata": {},
   "outputs": [
    {
     "data": {
      "text/html": [
       "<div>\n",
       "<style scoped>\n",
       "    .dataframe tbody tr th:only-of-type {\n",
       "        vertical-align: middle;\n",
       "    }\n",
       "\n",
       "    .dataframe tbody tr th {\n",
       "        vertical-align: top;\n",
       "    }\n",
       "\n",
       "    .dataframe thead th {\n",
       "        text-align: right;\n",
       "    }\n",
       "</style>\n",
       "<table border=\"1\" class=\"dataframe\">\n",
       "  <thead>\n",
       "    <tr style=\"text-align: right;\">\n",
       "      <th></th>\n",
       "      <th>name</th>\n",
       "      <th>rating</th>\n",
       "      <th>review</th>\n",
       "    </tr>\n",
       "  </thead>\n",
       "  <tbody>\n",
       "    <tr>\n",
       "      <th>2584</th>\n",
       "      <td>Wormtown_Brewery</td>\n",
       "      <td>4.0</td>\n",
       "      <td>Fun Brewery on Shrewsbury Street . We enjoyed ...</td>\n",
       "    </tr>\n",
       "    <tr>\n",
       "      <th>2585</th>\n",
       "      <td>Wormtown_Brewery</td>\n",
       "      <td>5.0</td>\n",
       "      <td>Great local brewery. Impromptu stop while driv...</td>\n",
       "    </tr>\n",
       "    <tr>\n",
       "      <th>2586</th>\n",
       "      <td>Wormtown_Brewery</td>\n",
       "      <td>4.0</td>\n",
       "      <td>Good beer, small place. The brewery is situate...</td>\n",
       "    </tr>\n",
       "    <tr>\n",
       "      <th>2587</th>\n",
       "      <td>Wormtown_Brewery</td>\n",
       "      <td>5.0</td>\n",
       "      <td>Terrific. Love this brewery. Yummy yummy. Sat ...</td>\n",
       "    </tr>\n",
       "    <tr>\n",
       "      <th>2588</th>\n",
       "      <td>Wormtown_Brewery</td>\n",
       "      <td>5.0</td>\n",
       "      <td>Just Good Beer. Stopped by for first time to h...</td>\n",
       "    </tr>\n",
       "  </tbody>\n",
       "</table>\n",
       "</div>"
      ],
      "text/plain": [
       "                  name  rating  \\\n",
       "2584  Wormtown_Brewery     4.0   \n",
       "2585  Wormtown_Brewery     5.0   \n",
       "2586  Wormtown_Brewery     4.0   \n",
       "2587  Wormtown_Brewery     5.0   \n",
       "2588  Wormtown_Brewery     5.0   \n",
       "\n",
       "                                                 review  \n",
       "2584  Fun Brewery on Shrewsbury Street . We enjoyed ...  \n",
       "2585  Great local brewery. Impromptu stop while driv...  \n",
       "2586  Good beer, small place. The brewery is situate...  \n",
       "2587  Terrific. Love this brewery. Yummy yummy. Sat ...  \n",
       "2588  Just Good Beer. Stopped by for first time to h...  "
      ]
     },
     "execution_count": 163,
     "metadata": {},
     "output_type": "execute_result"
    }
   ],
   "source": [
    "# Check df\n",
    "reviews_df.tail(5)"
   ]
  },
  {
   "cell_type": "code",
   "execution_count": 179,
   "metadata": {},
   "outputs": [
    {
     "name": "stdout",
     "output_type": "stream",
     "text": [
      "Index: 2132\n",
      "4.0\n",
      "The Jacks Abbey of Hopkinton . Great atmosphere and beer selection. After renovations it’s spacious and serve food as well. You order your food separate from your beer. Two separate stations. Food is OK. My fish and chips had dry-over-fried chips, and “healthy” tasting coleslaw but fish was good. \n"
     ]
    }
   ],
   "source": [
    "# Spot check random reviews\n",
    "index = random.randint(0, len(reviews_df))\n",
    "print(f'Index: {index}')\n",
    "print(reviews_df['rating'][index])\n",
    "print(reviews_df['review'][index])"
   ]
  },
  {
   "cell_type": "code",
   "execution_count": 176,
   "metadata": {},
   "outputs": [],
   "source": [
    "# Export dataframe to csv for procesing in later notebooks\n",
    "filepath = Path('../assets/brewery_reviews_R1.csv') \n",
    "reviews_df.to_csv(filepath)"
   ]
  },
  {
   "cell_type": "code",
   "execution_count": null,
   "metadata": {},
   "outputs": [],
   "source": []
  }
 ],
 "metadata": {
  "kernelspec": {
   "display_name": "venv1",
   "language": "python",
   "name": "python3"
  },
  "language_info": {
   "codemirror_mode": {
    "name": "ipython",
    "version": 3
   },
   "file_extension": ".py",
   "mimetype": "text/x-python",
   "name": "python",
   "nbconvert_exporter": "python",
   "pygments_lexer": "ipython3",
   "version": "3.10.6"
  },
  "orig_nbformat": 4,
  "vscode": {
   "interpreter": {
    "hash": "59be21d7dfe853d793256d9a87541cdb5c04386d032041ed0e63d6f380a59970"
   }
  }
 },
 "nbformat": 4,
 "nbformat_minor": 2
}
