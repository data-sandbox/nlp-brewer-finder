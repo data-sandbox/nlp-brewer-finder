{
 "cells": [
  {
   "attachments": {},
   "cell_type": "markdown",
   "metadata": {},
   "source": [
    "## **02 Process Reviews**\n",
    "This notebook processes all of the review data scraped in the previous notebook and outputs a summary dataframe containing the brewery name, review rating, and review text for each individual review.\n",
    "\n",
    "### **Notebook Objectives**\n",
    "1. Extract the review data for each brewery from the directory of txt files\n",
    "2. Wrangle the data into a consistent form (scrape from 'Attraction' vs 'Restaurant' pages have slightly different formatting)\n",
    "3. Generate a dataframe containing the processed review data and export a csv for later notebooks"
   ]
  },
  {
   "cell_type": "code",
   "execution_count": 1,
   "metadata": {},
   "outputs": [],
   "source": [
    "import pandas as pd\n",
    "import re\n",
    "from pathlib import Path\n",
    "import random\n",
    "random.seed(11)\n",
    "import numpy as np\n",
    "np.random.seed(11)\n",
    "import spacy"
   ]
  },
  {
   "cell_type": "code",
   "execution_count": 2,
   "metadata": {},
   "outputs": [],
   "source": [
    "def process_rating(raw):\n",
    "    # Attraction case\n",
    "    match1 = re.findall(r'^\\d.\\d', raw)\n",
    "    # Restaurant case\n",
    "    match2 = re.findall(r'\\d\\d', raw)\n",
    "    if match1:\n",
    "        rating = float(match1[0])\n",
    "        return rating\n",
    "    elif match2:\n",
    "        rating = float(match2[0][0] + '.' + match2[0][1])\n",
    "        return rating\n",
    "    else:\n",
    "        raise ValueError(f'Rating processing error: {raw}')\n",
    "\n",
    "def process_date():\n",
    "    return NotImplementedError\n",
    "\n",
    "def process_review(title, text):\n",
    "    title = title.strip('\\n')\n",
    "    text = text.strip('\\n')\n",
    "    review = title + '. ' + text\n",
    "    return review\n",
    "\n",
    "def append_df(df, id, rating, review):\n",
    "    id = [id] * len(rating)\n",
    "    reviews_df = pd.concat([df, \n",
    "    pd.DataFrame({'id' : id,\n",
    "                'rating' : rating,\n",
    "                'review' : review})], ignore_index=True)\n",
    "    return reviews_df\n",
    "\n",
    "def append_brewery_data(df, path):\n",
    "    id = re.findall(r'text\\/([0-9a-z_-]+)-[A-Z]', str(path))[0]\n",
    "    # Extract data from review text\n",
    "    rating = []\n",
    "    review = []\n",
    "    with open(path, 'r') as f:\n",
    "        while True:\n",
    "            try:\n",
    "                raw_date = next(f)\n",
    "                raw_rating = next(f)\n",
    "                title = next(f)\n",
    "                text = next(f)\n",
    "                rating.append(process_rating(raw_rating))\n",
    "                review.append(process_review(title, text))\n",
    "            except StopIteration:\n",
    "                break\n",
    "    # Append new data to dataframe\n",
    "    return append_df(df, id, rating, review)"
   ]
  },
  {
   "cell_type": "code",
   "execution_count": 3,
   "metadata": {},
   "outputs": [],
   "source": [
    "# Initialize df\n",
    "review_text_df = pd.DataFrame(columns=['id', 'rating', 'review'])\n",
    "\n",
    "# Extract review data from all txt files in directory\n",
    "dir_path = '../assets/text/'\n",
    "paths = Path(dir_path).glob('**/*.txt')\n",
    "for path in paths:\n",
    "    review_text_df = append_brewery_data(review_text_df, path)\n",
    "\n",
    "# Sort alphabetically\n",
    "review_text_df = review_text_df.sort_values(by=['id'], ignore_index=True)"
   ]
  },
  {
   "cell_type": "code",
   "execution_count": 6,
   "metadata": {},
   "outputs": [
    {
     "name": "stdout",
     "output_type": "stream",
     "text": [
      "(5985, 3)\n"
     ]
    },
    {
     "data": {
      "text/html": [
       "<div>\n",
       "<style scoped>\n",
       "    .dataframe tbody tr th:only-of-type {\n",
       "        vertical-align: middle;\n",
       "    }\n",
       "\n",
       "    .dataframe tbody tr th {\n",
       "        vertical-align: top;\n",
       "    }\n",
       "\n",
       "    .dataframe thead th {\n",
       "        text-align: right;\n",
       "    }\n",
       "</style>\n",
       "<table border=\"1\" class=\"dataframe\">\n",
       "  <thead>\n",
       "    <tr style=\"text-align: right;\">\n",
       "      <th></th>\n",
       "      <th>id</th>\n",
       "      <th>rating</th>\n",
       "      <th>review</th>\n",
       "    </tr>\n",
       "  </thead>\n",
       "  <tbody>\n",
       "    <tr>\n",
       "      <th>5980</th>\n",
       "      <td>zero-gravity-craft-brewery-burlington-2</td>\n",
       "      <td>4.0</td>\n",
       "      <td>Eat good food and drink good beer!. We haven’t...</td>\n",
       "    </tr>\n",
       "    <tr>\n",
       "      <th>5981</th>\n",
       "      <td>zero-gravity-craft-brewery-burlington-2</td>\n",
       "      <td>4.0</td>\n",
       "      <td>When u feel like a drink at 8am. One of the ve...</td>\n",
       "    </tr>\n",
       "    <tr>\n",
       "      <th>5982</th>\n",
       "      <td>zero-gravity-craft-brewery-burlington-2</td>\n",
       "      <td>5.0</td>\n",
       "      <td>Nice Vibe At Zero Gravity. I had discovered an...</td>\n",
       "    </tr>\n",
       "    <tr>\n",
       "      <th>5983</th>\n",
       "      <td>zero-gravity-craft-brewery-burlington-2</td>\n",
       "      <td>3.0</td>\n",
       "      <td>Fun place; so-so beer. Really fun atmosphere w...</td>\n",
       "    </tr>\n",
       "    <tr>\n",
       "      <th>5984</th>\n",
       "      <td>zero-gravity-craft-brewery-burlington-2</td>\n",
       "      <td>4.0</td>\n",
       "      <td>Great stop. Was in Burlington and decided to g...</td>\n",
       "    </tr>\n",
       "  </tbody>\n",
       "</table>\n",
       "</div>"
      ],
      "text/plain": [
       "                                           id  rating  \\\n",
       "5980  zero-gravity-craft-brewery-burlington-2     4.0   \n",
       "5981  zero-gravity-craft-brewery-burlington-2     4.0   \n",
       "5982  zero-gravity-craft-brewery-burlington-2     5.0   \n",
       "5983  zero-gravity-craft-brewery-burlington-2     3.0   \n",
       "5984  zero-gravity-craft-brewery-burlington-2     4.0   \n",
       "\n",
       "                                                 review  \n",
       "5980  Eat good food and drink good beer!. We haven’t...  \n",
       "5981  When u feel like a drink at 8am. One of the ve...  \n",
       "5982  Nice Vibe At Zero Gravity. I had discovered an...  \n",
       "5983  Fun place; so-so beer. Really fun atmosphere w...  \n",
       "5984  Great stop. Was in Burlington and decided to g...  "
      ]
     },
     "execution_count": 6,
     "metadata": {},
     "output_type": "execute_result"
    }
   ],
   "source": [
    "# Inspect df\n",
    "print(review_text_df.shape)\n",
    "review_text_df.tail(5)"
   ]
  },
  {
   "cell_type": "code",
   "execution_count": 12,
   "metadata": {},
   "outputs": [
    {
     "name": "stdout",
     "output_type": "stream",
     "text": [
      "Index: 4811\n",
      "sons-of-liberty-beer-and-spirits-co-wakefield\n",
      "5.0\n",
      "Fun place. Well done! Went to Sip and Shuck last night, a monthly event. Live music, nice crowd, great way to sample Son's whiskey and other brews. They have some games and food vendors at these events. Good way to sample local food paired with Son's cocktails. I did a whiskey flight which allowed me to sample four whiskeys. All were good but Foolproof Porter was the favorite followed by Uprising. We also had American Pilsner which was very refreshing. Got to sample some local oysters too. Great time. Want to go for a tasting next time. Prices are very reasonable. \n"
     ]
    }
   ],
   "source": [
    "# Spot check random reviews\n",
    "index = random.randint(0, len(review_text_df))\n",
    "print(f'Index: {index}')\n",
    "print(review_text_df['id'][index])\n",
    "print(review_text_df['rating'][index])\n",
    "print(review_text_df['review'][index])"
   ]
  },
  {
   "cell_type": "code",
   "execution_count": 20,
   "metadata": {},
   "outputs": [
    {
     "name": "stdout",
     "output_type": "stream",
     "text": [
      "Shape of main brewery listing: (8170, 17)\n",
      "Shape of review table: (5985, 10)\n"
     ]
    },
    {
     "data": {
      "text/html": [
       "<div>\n",
       "<style scoped>\n",
       "    .dataframe tbody tr th:only-of-type {\n",
       "        vertical-align: middle;\n",
       "    }\n",
       "\n",
       "    .dataframe tbody tr th {\n",
       "        vertical-align: top;\n",
       "    }\n",
       "\n",
       "    .dataframe thead th {\n",
       "        text-align: right;\n",
       "    }\n",
       "</style>\n",
       "<table border=\"1\" class=\"dataframe\">\n",
       "  <thead>\n",
       "    <tr style=\"text-align: right;\">\n",
       "      <th></th>\n",
       "      <th>obdb_id</th>\n",
       "      <th>name</th>\n",
       "      <th>state</th>\n",
       "      <th>city</th>\n",
       "      <th>street</th>\n",
       "      <th>longitude</th>\n",
       "      <th>latitude</th>\n",
       "      <th>website_url</th>\n",
       "      <th>rating</th>\n",
       "      <th>review</th>\n",
       "    </tr>\n",
       "  </thead>\n",
       "  <tbody>\n",
       "    <tr>\n",
       "      <th>0</th>\n",
       "      <td>10th-district-brewing-company-abington</td>\n",
       "      <td>10th District Brewing Company</td>\n",
       "      <td>Massachusetts</td>\n",
       "      <td>Abington</td>\n",
       "      <td>491 Washington St</td>\n",
       "      <td>-70.945941</td>\n",
       "      <td>42.105918</td>\n",
       "      <td>http://www.10thdistrictbrewing.com</td>\n",
       "      <td>4.0</td>\n",
       "      <td>Nice local SE MASS Brewery. Definitely worth t...</td>\n",
       "    </tr>\n",
       "    <tr>\n",
       "      <th>1</th>\n",
       "      <td>10th-district-brewing-company-abington</td>\n",
       "      <td>10th District Brewing Company</td>\n",
       "      <td>Massachusetts</td>\n",
       "      <td>Abington</td>\n",
       "      <td>491 Washington St</td>\n",
       "      <td>-70.945941</td>\n",
       "      <td>42.105918</td>\n",
       "      <td>http://www.10thdistrictbrewing.com</td>\n",
       "      <td>4.0</td>\n",
       "      <td>Tasty, fresh Brew. Went for a quick taste of t...</td>\n",
       "    </tr>\n",
       "    <tr>\n",
       "      <th>2</th>\n",
       "      <td>10th-district-brewing-company-abington</td>\n",
       "      <td>10th District Brewing Company</td>\n",
       "      <td>Massachusetts</td>\n",
       "      <td>Abington</td>\n",
       "      <td>491 Washington St</td>\n",
       "      <td>-70.945941</td>\n",
       "      <td>42.105918</td>\n",
       "      <td>http://www.10thdistrictbrewing.com</td>\n",
       "      <td>5.0</td>\n",
       "      <td>Great Beer. I come here often for some good be...</td>\n",
       "    </tr>\n",
       "  </tbody>\n",
       "</table>\n",
       "</div>"
      ],
      "text/plain": [
       "                                  obdb_id                           name  \\\n",
       "0  10th-district-brewing-company-abington  10th District Brewing Company   \n",
       "1  10th-district-brewing-company-abington  10th District Brewing Company   \n",
       "2  10th-district-brewing-company-abington  10th District Brewing Company   \n",
       "\n",
       "           state      city             street  longitude   latitude  \\\n",
       "0  Massachusetts  Abington  491 Washington St -70.945941  42.105918   \n",
       "1  Massachusetts  Abington  491 Washington St -70.945941  42.105918   \n",
       "2  Massachusetts  Abington  491 Washington St -70.945941  42.105918   \n",
       "\n",
       "                          website_url  rating  \\\n",
       "0  http://www.10thdistrictbrewing.com     4.0   \n",
       "1  http://www.10thdistrictbrewing.com     4.0   \n",
       "2  http://www.10thdistrictbrewing.com     5.0   \n",
       "\n",
       "                                              review  \n",
       "0  Nice local SE MASS Brewery. Definitely worth t...  \n",
       "1  Tasty, fresh Brew. Went for a quick taste of t...  \n",
       "2  Great Beer. I come here often for some good be...  "
      ]
     },
     "execution_count": 20,
     "metadata": {},
     "output_type": "execute_result"
    }
   ],
   "source": [
    "# Import brewery info table for merging\n",
    "filepath = Path('../assets/breweries_clean_address.csv') \n",
    "brewery_info_df = pd.read_csv(filepath)\n",
    "print(f'Shape of main brewery listing: {brewery_info_df.shape}')\n",
    "\n",
    "# Merge info and reviews tables\n",
    "brewery_reviews_df = brewery_info_df.merge(review_text_df, left_on='obdb_id', right_on='id', how='inner').drop('id', axis=1)\n",
    "brewery_reviews_df = brewery_reviews_df[['obdb_id', 'name', 'state', 'city', 'street', \n",
    "    'longitude', 'latitude', 'website_url', 'rating', 'review']]\n",
    "print(f'Shape of review table: {brewery_reviews_df.shape}')\n",
    "brewery_reviews_df.head(3)"
   ]
  },
  {
   "cell_type": "code",
   "execution_count": 10,
   "metadata": {},
   "outputs": [],
   "source": [
    "# Export dataframe to csv for procesing in later notebooks\n",
    "filepath = Path('../assets/brewery_reviews.csv') \n",
    "brewery_reviews_df.to_csv(filepath, index=False)"
   ]
  }
 ],
 "metadata": {
  "kernelspec": {
   "display_name": ".venv_main",
   "language": "python",
   "name": "python3"
  },
  "language_info": {
   "codemirror_mode": {
    "name": "ipython",
    "version": 3
   },
   "file_extension": ".py",
   "mimetype": "text/x-python",
   "name": "python",
   "nbconvert_exporter": "python",
   "pygments_lexer": "ipython3",
   "version": "3.9.12"
  },
  "orig_nbformat": 4,
  "vscode": {
   "interpreter": {
    "hash": "3c69408b1de648bf110e3cbae52f18af38dc9daa774b13f8aaf5c2891ede9dc7"
   }
  }
 },
 "nbformat": 4,
 "nbformat_minor": 2
}
