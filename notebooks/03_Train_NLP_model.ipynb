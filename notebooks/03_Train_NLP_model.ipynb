{
 "cells": [
  {
   "attachments": {},
   "cell_type": "markdown",
   "metadata": {},
   "source": [
    "## **03 Train Model**\n",
    "This notebook takes the processed reviews and trains a spaCy NLP named entity recognition (NER) model to identify brewery features from user review text.\n",
    "\n",
    "### **Notebook Objectives**\n",
    "1. Generate a training dataset from the review data compiled in the previous notebook\n",
    "2. Label the features in the training data using Docanno\n",
    "3. Import the annotated training data into the spaCy pipeline\n",
    "4. Train the NER model\n",
    "5. Evaluate the model"
   ]
  },
  {
   "cell_type": "code",
   "execution_count": 29,
   "metadata": {},
   "outputs": [],
   "source": [
    "from pathlib import Path\n",
    "import random\n",
    "import math\n",
    "import pandas as pd\n",
    "import numpy as np\n",
    "import json\n",
    "from collections import Counter\n",
    "random.seed(11)\n",
    "\n",
    "import spacy\n",
    "from spacy.tokens import DocBin\n",
    "from spacy import displacy"
   ]
  },
  {
   "cell_type": "code",
   "execution_count": 2,
   "metadata": {},
   "outputs": [
    {
     "data": {
      "text/html": [
       "<div>\n",
       "<style scoped>\n",
       "    .dataframe tbody tr th:only-of-type {\n",
       "        vertical-align: middle;\n",
       "    }\n",
       "\n",
       "    .dataframe tbody tr th {\n",
       "        vertical-align: top;\n",
       "    }\n",
       "\n",
       "    .dataframe thead th {\n",
       "        text-align: right;\n",
       "    }\n",
       "</style>\n",
       "<table border=\"1\" class=\"dataframe\">\n",
       "  <thead>\n",
       "    <tr style=\"text-align: right;\">\n",
       "      <th></th>\n",
       "      <th>name</th>\n",
       "      <th>rating</th>\n",
       "      <th>review</th>\n",
       "    </tr>\n",
       "  </thead>\n",
       "  <tbody>\n",
       "    <tr>\n",
       "      <th>0</th>\n",
       "      <td>10th_District_Brewing_Company</td>\n",
       "      <td>5.0</td>\n",
       "      <td>Good Local Beer!. Good beer, brewed right on s...</td>\n",
       "    </tr>\n",
       "    <tr>\n",
       "      <th>1</th>\n",
       "      <td>10th_District_Brewing_Company</td>\n",
       "      <td>5.0</td>\n",
       "      <td>Micro Brewery with diverse collections . This ...</td>\n",
       "    </tr>\n",
       "    <tr>\n",
       "      <th>2</th>\n",
       "      <td>10th_District_Brewing_Company</td>\n",
       "      <td>5.0</td>\n",
       "      <td>Great Beer. I come here often for some good be...</td>\n",
       "    </tr>\n",
       "    <tr>\n",
       "      <th>3</th>\n",
       "      <td>10th_District_Brewing_Company</td>\n",
       "      <td>4.0</td>\n",
       "      <td>Nice local SE MASS Brewery. Definitely worth t...</td>\n",
       "    </tr>\n",
       "    <tr>\n",
       "      <th>4</th>\n",
       "      <td>10th_District_Brewing_Company</td>\n",
       "      <td>4.0</td>\n",
       "      <td>Great local micro brewery. The beer here is ve...</td>\n",
       "    </tr>\n",
       "  </tbody>\n",
       "</table>\n",
       "</div>"
      ],
      "text/plain": [
       "                            name  rating  \\\n",
       "0  10th_District_Brewing_Company     5.0   \n",
       "1  10th_District_Brewing_Company     5.0   \n",
       "2  10th_District_Brewing_Company     5.0   \n",
       "3  10th_District_Brewing_Company     4.0   \n",
       "4  10th_District_Brewing_Company     4.0   \n",
       "\n",
       "                                              review  \n",
       "0  Good Local Beer!. Good beer, brewed right on s...  \n",
       "1  Micro Brewery with diverse collections . This ...  \n",
       "2  Great Beer. I come here often for some good be...  \n",
       "3  Nice local SE MASS Brewery. Definitely worth t...  \n",
       "4  Great local micro brewery. The beer here is ve...  "
      ]
     },
     "execution_count": 2,
     "metadata": {},
     "output_type": "execute_result"
    }
   ],
   "source": [
    "# Import brewery review data into dataframe\n",
    "filepath = Path('../assets/brewery_reviews_R1.csv') \n",
    "reviews_df = pd.read_csv(filepath)\n",
    "reviews_df.head()"
   ]
  },
  {
   "cell_type": "code",
   "execution_count": 3,
   "metadata": {},
   "outputs": [],
   "source": [
    "# Extract random sets of reviews for training data\n",
    "# Incrementally retrain the model as more training sets are annotated\n",
    "reviews = reviews_df['review'].to_numpy()\n",
    "set_size = 100\n",
    "total_sets = 6\n",
    "np.random.seed(12)\n",
    "random_reviews = np.random.choice(reviews, size=set_size*total_sets, replace=False)\n",
    "reviews_split = np.array_split(random_reviews, total_sets)\n",
    "for num in range(total_sets):\n",
    "    filepath = Path(f'../assets/data/training_data_{set_size}_{num}.txt')\n",
    "    with open(filepath, 'w+') as f:\n",
    "        f.write('\\n'.join(reviews_split[num]))"
   ]
  },
  {
   "cell_type": "code",
   "execution_count": 18,
   "metadata": {},
   "outputs": [],
   "source": [
    "# Load the training data from the Doccano export\n",
    "filepath = Path(\"../assets/data/processed/training_100_0.jsonl\")\n",
    "labeled_data = []\n",
    "\n",
    "with open(filepath) as file:\n",
    "    lines = file.readlines()\n",
    "    for train_data in lines:\n",
    "        data = json.loads(train_data)\n",
    "        if len(data['label']) == 0: continue\n",
    "        labeled_data.append((data['text'], data['label']))"
   ]
  },
  {
   "cell_type": "code",
   "execution_count": 19,
   "metadata": {},
   "outputs": [],
   "source": [
    "# Split the labeled data into training and evaluation sets\n",
    "random.shuffle(labeled_data)\n",
    "split = 0.8\n",
    "n = math.floor(len(labeled_data) * split)\n",
    "train_data = labeled_data[:n]\n",
    "eval_data = labeled_data[n:]\n",
    "\n",
    "# Inspect split point\n",
    "if train_data[-1] == eval_data[0]:\n",
    "    print('Integer rounding error. Overlap between training and eval data')"
   ]
  },
  {
   "cell_type": "code",
   "execution_count": 20,
   "metadata": {},
   "outputs": [],
   "source": [
    "# Prepare the training and evaluation data for spacy\n",
    "def create_docbin(data):\n",
    "    nlp = spacy.blank(\"en\")\n",
    "    db = DocBin()\n",
    "    for text, annotations in data:\n",
    "        doc = nlp(text)\n",
    "        ents = []\n",
    "        for start, end, label in annotations:\n",
    "            span = doc.char_span(start, end, label=label)\n",
    "            if span:\n",
    "                ents.append(span)\n",
    "        if ents != []:\n",
    "            doc.ents = ents\n",
    "        db.add(doc)\n",
    "    return db\n",
    "\n",
    "train_db = create_docbin(train_data)\n",
    "eval_db = create_docbin(eval_data)\n",
    "\n",
    "# convert to spacy format\n",
    "train_db.to_disk(Path(\"../models/train.spacy\"))\n",
    "eval_db.to_disk(Path(\"../models/eval.spacy\"))"
   ]
  },
  {
   "cell_type": "code",
   "execution_count": 25,
   "metadata": {},
   "outputs": [
    {
     "name": "stdout",
     "output_type": "stream",
     "text": [
      "\u001b[38;5;2m✔ Created output directory: models\u001b[0m\n",
      "\u001b[38;5;4mℹ Saving to output directory: models\u001b[0m\n",
      "\u001b[38;5;4mℹ Using CPU\u001b[0m\n",
      "\u001b[1m\n",
      "=========================== Initializing pipeline ===========================\u001b[0m\n"
     ]
    },
    {
     "name": "stderr",
     "output_type": "stream",
     "text": [
      "[2023-01-31 18:20:13,573] [INFO] Set up nlp object from config\n",
      "[2023-01-31 18:20:13,577] [INFO] Pipeline: ['tok2vec', 'ner']\n",
      "[2023-01-31 18:20:13,579] [INFO] Created vocabulary\n",
      "[2023-01-31 18:20:13,580] [INFO] Finished initializing nlp object\n",
      "[2023-01-31 18:20:13,992] [INFO] Initialized pipeline components: ['tok2vec', 'ner']\n"
     ]
    },
    {
     "name": "stdout",
     "output_type": "stream",
     "text": [
      "\u001b[38;5;2m✔ Initialized pipeline\u001b[0m\n",
      "\u001b[1m\n",
      "============================= Training pipeline =============================\u001b[0m\n",
      "\u001b[38;5;4mℹ Pipeline: ['tok2vec', 'ner']\u001b[0m\n",
      "\u001b[38;5;4mℹ Initial learn rate: 0.001\u001b[0m\n",
      "E    #       LOSS TOK2VEC  LOSS NER  ENTS_F  ENTS_P  ENTS_R  SCORE \n",
      "---  ------  ------------  --------  ------  ------  ------  ------\n",
      "  0       0          0.00     94.50    0.00    0.00    0.00    0.00\n",
      "  3     200        285.22   2378.65   48.82   59.62   41.33    0.49\n",
      "  7     400        149.21    560.12   56.52   61.90   52.00    0.57\n",
      " 11     600        233.19    247.70   54.05   54.79   53.33    0.54\n",
      " 17     800       3070.56    175.84   56.52   61.90   52.00    0.57\n",
      " 23    1000        156.21     80.28   60.29   67.21   54.67    0.60\n",
      " 31    1200        155.04     63.41   54.41   60.66   49.33    0.54\n",
      " 41    1400         78.43     22.06   53.15   55.88   50.67    0.53\n",
      " 52    1600         71.58     23.18   59.70   67.80   53.33    0.60\n",
      " 66    1800        202.82     49.28   54.55   63.16   48.00    0.55\n",
      " 84    2000        283.49     49.87   54.93   58.21   52.00    0.55\n",
      "106    2200        345.32     44.50   54.41   60.66   49.33    0.54\n",
      "133    2400        157.70     29.54   54.55   57.35   52.00    0.55\n",
      "161    2600        133.82     19.16   50.70   53.73   48.00    0.51\n",
      "\u001b[38;5;2m✔ Saved pipeline to output directory\u001b[0m\n",
      "models/model-last\n"
     ]
    }
   ],
   "source": [
    "%%bash\n",
    "# Train model\n",
    "python -m spacy train ../configs/config.cfg --output ../models --paths.train ../models/train.spacy --paths.dev ../models/eval.spacy"
   ]
  },
  {
   "cell_type": "code",
   "execution_count": 26,
   "metadata": {},
   "outputs": [
    {
     "name": "stdout",
     "output_type": "stream",
     "text": [
      "(Hopkinton, food, food, Food)\n",
      "SETTING Hopkinton\n",
      "FEATURE food\n",
      "FEATURE food\n",
      "FEATURE Food\n"
     ]
    }
   ],
   "source": [
    "# Test trained model on example text\n",
    "nlp = spacy.load(Path('../models/model-best'))\n",
    "doc = nlp(\"The Jacks Abbey of Hopkinton . Great atmosphere and beer selection. After renovations it’s spacious and serve food as well. You order your food separate from your beer. Two separate stations. Food is OK. My fish and chips had dry-over-fried chips, and “healthy” tasting coleslaw but fish was good. \")\n",
    "print(doc.ents)\n",
    "for ent in doc.ents:\n",
    "    print(ent.label_, ent.text)"
   ]
  },
  {
   "cell_type": "code",
   "execution_count": 27,
   "metadata": {},
   "outputs": [
    {
     "name": "stdout",
     "output_type": "stream",
     "text": [
      "['cult-like following', 'Green', 'frustrating', 'relaxed', 'Boston', 'Relaxing', 'Crisp', '*', 'facility.-', 'Main Street'] ['beautiful', 'outdoor', 'pizza', 'organized', 'cans only', 'outside', 'cans according to', 'food', 'seltzer', 'coffee', 'outside', 'coffee', 'Outdoor', 'Live music', 'food', 'cans (around', 'cans),', 'cans that day', 'Parking', 'beautiful', 'system', 'organized', 'beautiful', 'coffee', 'outside', 'nuts', 'Pulling', 'outside', 'cans to go', 'cans only because', 'Realize', 'Stouts', 'coffee', 'Jan', 'Refreshing', 'Satisfying', 'DIPAs', 'food', 'food', 'Lots of beer', 'dogs', 'dog', 'Beautiful', 'organized', 'food', 'dog', 'food', 'dog', 'brand', 'Food trucks', 'cans of beer', 'stouts', 'cans per customer', 'Cans', 'dogs', 'ice', 'outside', 'growlers', 'band', 'outdoor', 'live band', 'music', 'stand', 'outside', 'cans to take', 'cans. But', 'stouts', 'stouts'] ['IPAs', 'IPAs', 'New England', 'YES', 'IPA', 'Stout', 'IPA', 'IPA', 'APAs', 'IPAs', 'IPA', 'New England', 'IPAs', 'DIPAs', 'ESB', 'New England IPAs', 'IPAs', 'cans', 'IPAs', 'IPA'] ['friendly', 'helpful', 'knowledgeable']\n"
     ]
    }
   ],
   "source": [
    "# Test trained model on one brewery review set\n",
    "nlp = spacy.load(Path('../models/model-best'))\n",
    "# filename = Path('../assets/text/Stone_Cow_Brewery-g41454-d10847344-Reviews-Stone_Cow_Brewery-Barre_Massachusetts.txt')\n",
    "# filename = Path('../assets/text/Lamplighter_Brewing_Co.-g60890-d11884912-Reviews-Lamplighter_Brewing_Company-Cambridge_Massachusetts.txt')\n",
    "filename = Path('../assets/text/Tree_House_Brewery-g41495-d12700065-Reviews-Tree_House_Brewing_Company-Charlton_Massachusetts.txt')\n",
    "\n",
    "with open(filename) as f:\n",
    "    reviews = f.read()\n",
    "\n",
    "# Extract entity matches in lists\n",
    "doc = nlp(reviews)\n",
    "setting = []\n",
    "feature = []\n",
    "beer = []\n",
    "ux = []\n",
    "for ent in doc.ents:\n",
    "    if ent.label_ == 'SETTING':\n",
    "        setting.append(ent.text)\n",
    "    elif ent.label_ == 'FEATURE':\n",
    "        feature.append(ent.text)\n",
    "    elif ent.label_ == 'BEER':\n",
    "        beer.append(ent.text)\n",
    "    elif ent.label_ == 'UX':\n",
    "        ux.append(ent.text)\n",
    "\n",
    "print(setting, feature, beer, ux)"
   ]
  },
  {
   "cell_type": "code",
   "execution_count": 30,
   "metadata": {},
   "outputs": [
    {
     "name": "stdout",
     "output_type": "stream",
     "text": [
      "Counter({'outside': 6, 'food': 6, 'beautiful': 4, 'coffee': 4, 'stouts': 4, 'outdoor': 3, 'organized': 3, 'dog': 3, 'dogs': 2, 'pizza': 1, 'cans only': 1, 'cans according to': 1, 'seltzer': 1, 'live music': 1, 'cans (around': 1, 'cans),': 1, 'cans that day': 1, 'parking': 1, 'system': 1, 'nuts': 1, 'pulling': 1, 'cans to go': 1, 'cans only because': 1, 'realize': 1, 'jan': 1, 'refreshing': 1, 'satisfying': 1, 'dipas': 1, 'lots of beer': 1, 'brand': 1, 'food trucks': 1, 'cans of beer': 1, 'cans per customer': 1, 'cans': 1, 'ice': 1, 'growlers': 1, 'band': 1, 'live band': 1, 'music': 1, 'stand': 1, 'cans to take': 1, 'cans. but': 1})\n",
      "Counter({'cult-like following': 1, 'green': 1, 'frustrating': 1, 'relaxed': 1, 'boston': 1, 'relaxing': 1, 'crisp': 1, '*': 1, 'facility.-': 1, 'main street': 1})\n",
      "Counter({'ipas': 6, 'ipa': 5, 'new england': 2, 'yes': 1, 'stout': 1, 'apas': 1, 'dipas': 1, 'esb': 1, 'new england ipas': 1, 'cans': 1})\n",
      "Counter({'friendly': 1, 'helpful': 1, 'knowledgeable': 1})\n"
     ]
    }
   ],
   "source": [
    "# Get entity match counts\n",
    "feature = [s.lower() for s in feature]\n",
    "setting = [s.lower() for s in setting]\n",
    "beer = [s.lower() for s in beer]\n",
    "ux = [s.lower() for s in ux]\n",
    "\n",
    "for label in [feature, setting, beer, ux]:\n",
    "    c = Counter(label)\n",
    "    print(c)"
   ]
  },
  {
   "cell_type": "code",
   "execution_count": null,
   "metadata": {},
   "outputs": [],
   "source": []
  },
  {
   "cell_type": "code",
   "execution_count": 31,
   "metadata": {},
   "outputs": [
    {
     "name": "stdout",
     "output_type": "stream",
     "text": [
      "The Jacks Abbey 0 15 ORG\n",
      "Hopkinton 19 28 GPE\n",
      "Two 169 172 CARDINAL\n",
      "The DET\n",
      "Jacks PROPN\n",
      "Abbey PROPN\n",
      "of ADP\n",
      "Hopkinton PROPN\n",
      ". PUNCT\n",
      "Great ADJ\n",
      "atmosphere NOUN\n",
      "and CCONJ\n",
      "beer NOUN\n"
     ]
    }
   ],
   "source": [
    "# Verify POS tagger with base model\n",
    "# TODO combine base model knowledge with custom model\n",
    "nlp = spacy.load(\"en_core_web_sm\")\n",
    "doc = nlp(\"The Jacks Abbey of Hopkinton . Great atmosphere and beer selection. After renovations it’s spacious and serve food as well. You order your food separate from your beer. Two separate stations. Food is OK. My fish and chips had dry-over-fried chips, and “healthy” tasting coleslaw but fish was good. \")\n",
    "\n",
    "for ent in doc.ents[:10]:\n",
    "    print(ent.text, ent.start_char, ent.end_char, ent.label_)\n",
    "\n",
    "for token in doc[:10]:\n",
    "    print(token.text, token.pos_)"
   ]
  },
  {
   "cell_type": "code",
   "execution_count": 36,
   "metadata": {},
   "outputs": [
    {
     "data": {
      "text/html": [
       "<span class=\"tex2jax_ignore\"><div class=\"entities\" style=\"line-height: 2.5; direction: ltr\">Good local beer</br></div></span>"
      ],
      "text/plain": [
       "<IPython.core.display.HTML object>"
      ]
     },
     "metadata": {},
     "output_type": "display_data"
    },
    {
     "data": {
      "text/html": [
       "<span class=\"tex2jax_ignore\"><div class=\"entities\" style=\"line-height: 2.5; direction: ltr\">You can choose your beer among a long list. The setting is nice, you can eat something at the Ecuadorian street \n",
       "<mark class=\"entity\" style=\"background: #ddd; padding: 0.45em 0.6em; margin: 0 0.25em; line-height: 1; border-radius: 0.35em;\">\n",
       "    food stand\n",
       "    <span style=\"font-size: 0.8em; font-weight: bold; line-height: 1; border-radius: 0.35em; vertical-align: middle; margin-left: 0.5rem\">FEATURE</span>\n",
       "</mark>\n",
       ".</br></div></span>"
      ],
      "text/plain": [
       "<IPython.core.display.HTML object>"
      ]
     },
     "metadata": {},
     "output_type": "display_data"
    },
    {
     "data": {
      "text/html": [
       "<span class=\"tex2jax_ignore\"><div class=\"entities\" style=\"line-height: 2.5; direction: ltr\">Jun 2018 • Couples</br></div></span>"
      ],
      "text/plain": [
       "<IPython.core.display.HTML object>"
      ]
     },
     "metadata": {},
     "output_type": "display_data"
    },
    {
     "data": {
      "text/html": [
       "<span class=\"tex2jax_ignore\"><div class=\"entities\" style=\"line-height: 2.5; direction: ltr\">4.0 of 5 bubbles</br></div></span>"
      ],
      "text/plain": [
       "<IPython.core.display.HTML object>"
      ]
     },
     "metadata": {},
     "output_type": "display_data"
    },
    {
     "data": {
      "text/html": [
       "<span class=\"tex2jax_ignore\"><div class=\"entities\" style=\"line-height: 2.5; direction: ltr\">Beer, \n",
       "<mark class=\"entity\" style=\"background: #ddd; padding: 0.45em 0.6em; margin: 0 0.25em; line-height: 1; border-radius: 0.35em;\">\n",
       "    music\n",
       "    <span style=\"font-size: 0.8em; font-weight: bold; line-height: 1; border-radius: 0.35em; vertical-align: middle; margin-left: 0.5rem\">FEATURE</span>\n",
       "</mark>\n",
       ", \n",
       "<mark class=\"entity\" style=\"background: #ddd; padding: 0.45em 0.6em; margin: 0 0.25em; line-height: 1; border-radius: 0.35em;\">\n",
       "    games\n",
       "    <span style=\"font-size: 0.8em; font-weight: bold; line-height: 1; border-radius: 0.35em; vertical-align: middle; margin-left: 0.5rem\">FEATURE</span>\n",
       "</mark>\n",
       ", Nintendo, corner piano</br></div></span>"
      ],
      "text/plain": [
       "<IPython.core.display.HTML object>"
      ]
     },
     "metadata": {},
     "output_type": "display_data"
    },
    {
     "data": {
      "text/html": [
       "<span class=\"tex2jax_ignore\"><div class=\"entities\" style=\"line-height: 2.5; direction: ltr\">When I first walked into Aeronaut (I didn't have to wait in line on this particular Saturday evening, but I was warned that that's a common occurrence), I thought, &quot;\n",
       "<mark class=\"entity\" style=\"background: #ddd; padding: 0.45em 0.6em; margin: 0 0.25em; line-height: 1; border-radius: 0.35em;\">\n",
       "    cool\n",
       "    <span style=\"font-size: 0.8em; font-weight: bold; line-height: 1; border-radius: 0.35em; vertical-align: middle; margin-left: 0.5rem\">SETTING</span>\n",
       "</mark>\n",
       " joint.&quot; Kind of your typical brewery space... beer on tap, descriptions of said beer cheerfully and colorfully displayed on giant chalkboards, community tables, space for musicians. The beer we tried was really good, and we went through a decent variety.It wasn't until I sauntered back to the restroom that I discovered there was SO MUCH MORE. A) There's a machine that dispenses flavored soda water. B) There's a piano in the corner \n",
       "<mark class=\"entity\" style=\"background: #ddd; padding: 0.45em 0.6em; margin: 0 0.25em; line-height: 1; border-radius: 0.35em;\">\n",
       "    open to the public\n",
       "    <span style=\"font-size: 0.8em; font-weight: bold; line-height: 1; border-radius: 0.35em; vertical-align: middle; margin-left: 0.5rem\">SETTING</span>\n",
       "</mark>\n",
       ". C) Picnic-type tables that are perfect for groups. D) I'm pretty sure I saw some \n",
       "<mark class=\"entity\" style=\"background: #ddd; padding: 0.45em 0.6em; margin: 0 0.25em; line-height: 1; border-radius: 0.35em;\">\n",
       "    old-school arcade games\n",
       "    <span style=\"font-size: 0.8em; font-weight: bold; line-height: 1; border-radius: 0.35em; vertical-align: middle; margin-left: 0.5rem\">SETTING</span>\n",
       "</mark>\n",
       ".When I returned from the restroom, the \n",
       "<mark class=\"entity\" style=\"background: #ddd; padding: 0.45em 0.6em; margin: 0 0.25em; line-height: 1; border-radius: 0.35em;\">\n",
       "    band\n",
       "    <span style=\"font-size: 0.8em; font-weight: bold; line-height: 1; border-radius: 0.35em; vertical-align: middle; margin-left: 0.5rem\">FEATURE</span>\n",
       "</mark>\n",
       " was playing at a spot near the front door. Really good sound that stayed in the front area—it didn't travel into the back beer hall. There was someone playing Tetris in the corner, the screen was the wall for all to watch, mesmerized. You forget how fun it is to watch someone else play Tetris until it's happening. \n",
       "<mark class=\"entity\" style=\"background: #ddd; padding: 0.45em 0.6em; margin: 0 0.25em; line-height: 1; border-radius: 0.35em;\">\n",
       "    Cool\n",
       "    <span style=\"font-size: 0.8em; font-weight: bold; line-height: 1; border-radius: 0.35em; vertical-align: middle; margin-left: 0.5rem\">SETTING</span>\n",
       "</mark>\n",
       " space, good beer. A great option against your typical pub or bar.</br></div></span>"
      ],
      "text/plain": [
       "<IPython.core.display.HTML object>"
      ]
     },
     "metadata": {},
     "output_type": "display_data"
    },
    {
     "data": {
      "text/html": [
       "<span class=\"tex2jax_ignore\"><div class=\"entities\" style=\"line-height: 2.5; direction: ltr\">Mar 2018 • Couples</br></div></span>"
      ],
      "text/plain": [
       "<IPython.core.display.HTML object>"
      ]
     },
     "metadata": {},
     "output_type": "display_data"
    },
    {
     "data": {
      "text/html": [
       "<span class=\"tex2jax_ignore\"><div class=\"entities\" style=\"line-height: 2.5; direction: ltr\">5.0 of 5 bubbles</br></div></span>"
      ],
      "text/plain": [
       "<IPython.core.display.HTML object>"
      ]
     },
     "metadata": {},
     "output_type": "display_data"
    },
    {
     "data": {
      "text/html": [
       "<span class=\"tex2jax_ignore\"><div class=\"entities\" style=\"line-height: 2.5; direction: ltr\">Great beer </br></div></span>"
      ],
      "text/plain": [
       "<IPython.core.display.HTML object>"
      ]
     },
     "metadata": {},
     "output_type": "display_data"
    },
    {
     "data": {
      "text/html": [
       "<span class=\"tex2jax_ignore\"><div class=\"entities\" style=\"line-height: 2.5; direction: ltr\">Great service and beer. Can’t get any better. The brewery was cozy and \n",
       "<mark class=\"entity\" style=\"background: #ddd; padding: 0.45em 0.6em; margin: 0 0.25em; line-height: 1; border-radius: 0.35em;\">\n",
       "    cute\n",
       "    <span style=\"font-size: 0.8em; font-weight: bold; line-height: 1; border-radius: 0.35em; vertical-align: middle; margin-left: 0.5rem\">SETTING</span>\n",
       "</mark>\n",
       ". There was a line getting into the brewery but it was definitely worth the wait. I also loved the \n",
       "<mark class=\"entity\" style=\"background: #ddd; padding: 0.45em 0.6em; margin: 0 0.25em; line-height: 1; border-radius: 0.35em;\">\n",
       "    games\n",
       "    <span style=\"font-size: 0.8em; font-weight: bold; line-height: 1; border-radius: 0.35em; vertical-align: middle; margin-left: 0.5rem\">FEATURE</span>\n",
       "</mark>\n",
       " they offered. We played pac man a few times. Will be going there again soon :) </br></div></span>"
      ],
      "text/plain": [
       "<IPython.core.display.HTML object>"
      ]
     },
     "metadata": {},
     "output_type": "display_data"
    }
   ],
   "source": [
    "# Test displacy for model evaluation\n",
    "nlp = spacy.load(Path('../models/model-best'))\n",
    "with open('../assets/text/Aeronaut_Brewing_Company-g41818-d8126258-Reviews-Aeronaut_Brewing_Co-Somerville_Massachusetts.txt') as file:\n",
    "    reviews = file.readlines()\n",
    "    \n",
    "for review in reviews[10:20]:\n",
    "    doc = nlp(review)\n",
    "    displacy.render(doc, style=\"ent\")"
   ]
  }
 ],
 "metadata": {
  "kernelspec": {
   "display_name": "venv1",
   "language": "python",
   "name": "python3"
  },
  "language_info": {
   "codemirror_mode": {
    "name": "ipython",
    "version": 3
   },
   "file_extension": ".py",
   "mimetype": "text/x-python",
   "name": "python",
   "nbconvert_exporter": "python",
   "pygments_lexer": "ipython3",
   "version": "3.10.6"
  },
  "orig_nbformat": 4,
  "vscode": {
   "interpreter": {
    "hash": "59be21d7dfe853d793256d9a87541cdb5c04386d032041ed0e63d6f380a59970"
   }
  }
 },
 "nbformat": 4,
 "nbformat_minor": 2
}
